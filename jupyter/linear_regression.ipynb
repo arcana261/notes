{
 "cells": [
  {
   "cell_type": "code",
   "execution_count": 6,
   "id": "cheap-exposure",
   "metadata": {},
   "outputs": [],
   "source": [
    "import pandas as pd\n",
    "import numpy as np\n",
    "import matplotlib.pyplot as plt\n",
    "import math\n",
    "from scipy import optimize"
   ]
  },
  {
   "cell_type": "code",
   "execution_count": 7,
   "id": "heated-electronics",
   "metadata": {},
   "outputs": [
    {
     "data": {
      "text/html": [
       "<div>\n",
       "<style scoped>\n",
       "    .dataframe tbody tr th:only-of-type {\n",
       "        vertical-align: middle;\n",
       "    }\n",
       "\n",
       "    .dataframe tbody tr th {\n",
       "        vertical-align: top;\n",
       "    }\n",
       "\n",
       "    .dataframe thead th {\n",
       "        text-align: right;\n",
       "    }\n",
       "</style>\n",
       "<table border=\"1\" class=\"dataframe\">\n",
       "  <thead>\n",
       "    <tr style=\"text-align: right;\">\n",
       "      <th></th>\n",
       "      <th>x</th>\n",
       "      <th>y</th>\n",
       "    </tr>\n",
       "  </thead>\n",
       "  <tbody>\n",
       "    <tr>\n",
       "      <th>0</th>\n",
       "      <td>5.8707</td>\n",
       "      <td>7.20290</td>\n",
       "    </tr>\n",
       "    <tr>\n",
       "      <th>1</th>\n",
       "      <td>5.0702</td>\n",
       "      <td>5.13370</td>\n",
       "    </tr>\n",
       "    <tr>\n",
       "      <th>2</th>\n",
       "      <td>5.1793</td>\n",
       "      <td>-0.74279</td>\n",
       "    </tr>\n",
       "    <tr>\n",
       "      <th>3</th>\n",
       "      <td>8.5172</td>\n",
       "      <td>4.24150</td>\n",
       "    </tr>\n",
       "    <tr>\n",
       "      <th>4</th>\n",
       "      <td>6.3589</td>\n",
       "      <td>-1.42110</td>\n",
       "    </tr>\n",
       "  </tbody>\n",
       "</table>\n",
       "</div>"
      ],
      "text/plain": [
       "        x        y\n",
       "0  5.8707  7.20290\n",
       "1  5.0702  5.13370\n",
       "2  5.1793 -0.74279\n",
       "3  8.5172  4.24150\n",
       "4  6.3589 -1.42110"
      ]
     },
     "execution_count": 7,
     "metadata": {},
     "output_type": "execute_result"
    }
   ],
   "source": [
    "data = pd \\\n",
    "    .read_csv('data/linear_regression.txt', names=['x', 'y']) \\\n",
    "    .sample(frac=1)\n",
    "data.reset_index(inplace=True, drop=True)\n",
    "data.head()"
   ]
  },
  {
   "cell_type": "code",
   "execution_count": 8,
   "id": "physical-amsterdam",
   "metadata": {
    "scrolled": true
   },
   "outputs": [
    {
     "data": {
      "text/plain": [
       "<AxesSubplot:xlabel='x', ylabel='y'>"
      ]
     },
     "execution_count": 8,
     "metadata": {},
     "output_type": "execute_result"
    },
    {
     "data": {
      "image/png": "[encoded data removed]",
      "text/plain": [
       "<Figure size 432x288 with 1 Axes>"
      ]
     },
     "metadata": {
      "needs_background": "light"
     },
     "output_type": "display_data"
    }
   ],
   "source": [
    "data.plot.scatter(x='x', y='y')"
   ]
  },
  {
   "cell_type": "code",
   "execution_count": 9,
   "id": "metallic-crisis",
   "metadata": {},
   "outputs": [],
   "source": [
    "def extract(data, start, end):\n",
    "    m = data.shape[0]\n",
    "    view = data[start:(end - 1)]\n",
    "    \n",
    "    dropped_view = view\n",
    "    if 'y' in data.columns:\n",
    "        dropped_view = dropped_view.drop('y', axis=1)\n",
    "    if 'y^' in data.columns:\n",
    "        dropped_view = dropped_view.drop('y^', axis=1)\n",
    "    X = dropped_view.to_numpy()\n",
    "    y = view['y'].to_numpy().reshape(view.shape[0], 1)\n",
    "    return X, y\n",
    "\n",
    "def expand(data, p):\n",
    "    p = p + 1\n",
    "    m = data.shape[0]\n",
    "    n = data.shape[1]\n",
    "    result = data.copy()\n",
    "    \n",
    "    pv = [0] * n\n",
    "    while True:\n",
    "        r = 1\n",
    "        sumof = 0\n",
    "        for i in range(0, n):\n",
    "            if data.columns[i] in ['y', 'y^']:\n",
    "                continue\n",
    "            pv[i] = pv[i] + r\n",
    "            r = pv[i] // p\n",
    "            pv[i] = pv[i] % p\n",
    "            sumof = sumof + pv[i]\n",
    "        if r > 0:\n",
    "            break\n",
    "        if sumof < 2:\n",
    "            continue\n",
    "        toadd = None\n",
    "        name = ''\n",
    "        for i in range(0, n):\n",
    "            if pv[i] < 1 or data.columns[i] in ['y', 'y^']:\n",
    "                continue\n",
    "            name = name + data.columns[i]\n",
    "            if pv[i] > 1:\n",
    "                name = name + '^' + str(pv[i])\n",
    "            temp = data[data.columns[i]].pow(pv[i])\n",
    "            if toadd is None:\n",
    "                toadd = temp\n",
    "            else:\n",
    "                toadd = toadd.add(temp)\n",
    "        \n",
    "        result[name] = toadd\n",
    "        \n",
    "    result.insert(0, 'x0', [1] * m)\n",
    "        \n",
    "    return result\n",
    "    \n",
    "\n",
    "def cost_fn(theta, X, y, lamb):\n",
    "    # Note: np.multiply performs element-wise multiplication instead of matrix multiplication\n",
    "    # Note: np.matmul performs matrix multiplication\n",
    "    m = X.shape[0]\n",
    "    n = X.shape[1]\n",
    "    Theta = theta.reshape(n, 1)\n",
    "    h = np.matmul(X, Theta)\n",
    "    result = h - y\n",
    "    result = np.sum(np.multiply(result, result)) / (2 * m)\n",
    "    result = result + (lamb / (2 * m)) * (np.sum(np.multiply(Theta, Theta)) - math.pow(Theta[0,0], 2))\n",
    "    \n",
    "    return result\n",
    "\n",
    "def gradient_fn(theta, X, y, lamb):\n",
    "    m = X.shape[0]\n",
    "    n = X.shape[1]\n",
    "    Theta = theta.reshape(n, 1)\n",
    "    h = np.matmul(X, Theta)\n",
    "    result = (np.matmul(X.T, (h - y)) / m)\n",
    "    \n",
    "    lamb_vector = np.ones((n, 1))\n",
    "    lamb_vector[0, 0] = 0\n",
    "    \n",
    "    result = result + (lamb / m) * np.multiply(lamb_vector, Theta)\n",
    "    \n",
    "    return result.reshape(n)\n",
    "\n",
    "def solve(X, y, lamb):\n",
    "    n = X.shape[1]\n",
    "    result = optimize.minimize(\n",
    "        lambda theta: cost_fn(theta, X, y, lamb),\n",
    "        jac=lambda theta: gradient_fn(theta, X, y, lamb),\n",
    "        x0=np.array([0] * n),\n",
    "        method='BFGS')\n",
    "    return result.x.reshape(n, 1)\n",
    "\n",
    "def select_model(data, max_p):\n",
    "    m = data.shape[0]\n",
    "\n",
    "    df = pd.DataFrame(index=range(1, max_p + 1), columns=['power', 'cost'])\n",
    "    for p in range(1, max_p + 1):\n",
    "        expanded = expand(data, p)\n",
    "        Xtrain, ytrain = extract(expanded, 0, math.ceil(m*0.8))\n",
    "        Xcv, ycv = extract(expanded, math.ceil(m*0.8), m)\n",
    "        theta = solve(Xtrain, ytrain, 0)\n",
    "        cost = cost_fn(theta, Xcv, ycv, 0)\n",
    "        df.loc[p] = [p, cost]\n",
    "    print(df)\n",
    "    df.plot.line(x=0, y=1)\n",
    "        "
   ]
  },
  {
   "cell_type": "code",
   "execution_count": 10,
   "id": "informal-republican",
   "metadata": {},
   "outputs": [
    {
     "name": "stdout",
     "output_type": "stream",
     "text": [
      "   power       cost\n",
      "1      1   8.361176\n",
      "2      2   8.356061\n",
      "3      3   8.334591\n",
      "4      4    8.22604\n",
      "5      5   8.184355\n",
      "6      6   8.256365\n",
      "7      7   8.277294\n",
      "8      8   8.257665\n",
      "9      9   8.403604\n",
      "10    10   8.760278\n",
      "11    11   8.861743\n",
      "12    12  11.554673\n",
      "13    13  14.951437\n",
      "14    14  22.618186\n",
      "15    15  22.618186\n",
      "16    16  22.618186\n",
      "17    17  22.618186\n",
      "18    18  22.618186\n",
      "19    19  22.618186\n",
      "20    20  22.618186\n"
     ]
    },
    {
     "data": {
      "image/png": "[encoded data removed]",
      "text/plain": [
       "<Figure size 432x288 with 1 Axes>"
      ]
     },
     "metadata": {
      "needs_background": "light"
     },
     "output_type": "display_data"
    }
   ],
   "source": [
    "select_model(data, 20)"
   ]
  },
  {
   "cell_type": "code",
   "execution_count": 11,
   "id": "durable-chile",
   "metadata": {},
   "outputs": [],
   "source": [
    "P = 5\n",
    "expanded = expand(data, P)\n",
    "X, y = extract(expanded, 0, data.shape[0] + 1)\n",
    "Xtrain, ytrain = extract(expanded, 0, math.ceil(data.shape[0] * 0.8))\n",
    "Xcv, ycv = extract(expanded, math.ceil(data.shape[0] * 0.8), data.shape[0] + 1)\n",
    "theta = solve(X, y, 0)\n",
    "del expanded"
   ]
  },
  {
   "cell_type": "code",
   "execution_count": 12,
   "id": "authentic-network",
   "metadata": {},
   "outputs": [],
   "source": [
    "def plot_model(data, P, theta, step):\n",
    "    xmin = data['x'].min()\n",
    "    xmax = data['x'].max()\n",
    "    count = math.ceil((xmax - xmin) / step)\n",
    "    Xplot = pd.DataFrame(index=range(0, count), columns=['x'])\n",
    "    Xplot['x'] = np.arange(xmin, xmax, step)\n",
    "    Xplot = expand(Xplot, P)\n",
    "    Xplot['y'] = np.matmul(Xplot.to_numpy(), theta).reshape(Xplot.shape[0])\n",
    "\n",
    "    ax = Xplot.plot.line(x='x', y='y',c='r')\n",
    "    data.plot.scatter(x='x', y='y', c='b', ax=ax)"
   ]
  },
  {
   "cell_type": "code",
   "execution_count": 13,
   "id": "fossil-wright",
   "metadata": {},
   "outputs": [
    {
     "data": {
      "image/png": "[encoded data removed]",
      "text/plain": [
       "<Figure size 432x288 with 1 Axes>"
      ]
     },
     "metadata": {
      "needs_background": "light"
     },
     "output_type": "display_data"
    }
   ],
   "source": [
    "plot_model(data, P, theta, 0.5)"
   ]
  },
  {
   "cell_type": "code",
   "execution_count": 14,
   "id": "retired-future",
   "metadata": {},
   "outputs": [],
   "source": [
    "def select_lambda(Xtrain, ytrain, Xcv, ycv, begin, end, step):\n",
    "    m = data.shape[0]\n",
    "    \n",
    "    count = math.ceil((end - begin) / step)\n",
    "    df = pd.DataFrame(index=range(0, count), columns=['lambda', 'cost'])\n",
    "    \n",
    "    for i in range(0, count):\n",
    "        lamb = begin + i * step\n",
    "        theta = solve(Xtrain, ytrain, lamb)\n",
    "        cost = cost_fn(theta, Xcv, ycv, 0)\n",
    "        df.loc[i] = [lamb, cost]\n",
    "        \n",
    "    df.plot.line(x='lambda', y='cost')\n",
    "    print(df)"
   ]
  },
  {
   "cell_type": "code",
   "execution_count": 15,
   "id": "criminal-matter",
   "metadata": {},
   "outputs": [
    {
     "name": "stdout",
     "output_type": "stream",
     "text": [
      "    lambda      cost\n",
      "0        1  7.843205\n",
      "1        2  7.845669\n",
      "2        3  7.847535\n",
      "3        4  7.849224\n",
      "4        5  7.850829\n",
      "..     ...       ...\n",
      "994    995  8.032943\n",
      "995    996  8.032964\n",
      "996    997  8.032984\n",
      "997    998  8.033005\n",
      "998    999  8.033026\n",
      "\n",
      "[999 rows x 2 columns]\n"
     ]
    },
    {
     "data": {
      "image/png": "[encoded data removed]",
      "text/plain": [
       "<Figure size 432x288 with 1 Axes>"
      ]
     },
     "metadata": {
      "needs_background": "light"
     },
     "output_type": "display_data"
    }
   ],
   "source": [
    "select_lambda(Xtrain, ytrain, Xcv, ycv, 1, 1000, 1)"
   ]
  },
  {
   "cell_type": "code",
   "execution_count": 16,
   "id": "civic-country",
   "metadata": {},
   "outputs": [],
   "source": [
    "lamb = 0\n",
    "theta = solve(X, y, lamb)\n",
    "data['y^'] = np.matmul(X, theta).reshape(X.shape[0])"
   ]
  },
  {
   "cell_type": "code",
   "execution_count": 19,
   "id": "major-treasure",
   "metadata": {},
   "outputs": [],
   "source": [
    "def draw_learning_curve(data, P, lamb, start=None, end=None):\n",
    "    df = [] # m, cv, train\n",
    "    expanded = expand(data, P)\n",
    "    \n",
    "    start = start or 0\n",
    "    end = end or data.shape[0]\n",
    "    \n",
    "    for m in range(start, end + 1):  \n",
    "        Xtrain, ytrain = extract(expanded, 0, math.ceil(m*0.8))\n",
    "        Xcv, ycv = extract(expanded, math.ceil(m*0.8), m + 1)\n",
    "        if ycv.shape[0] < 1:\n",
    "            continue\n",
    "        \n",
    "        theta = solve(Xtrain, ytrain, lamb)\n",
    "        cost_train = cost_fn(theta, Xtrain, ytrain, 0)\n",
    "        cost_cv = cost_fn(theta, Xcv, ycv, 0)\n",
    "        \n",
    "        df.append([m, cost_cv, cost_train])\n",
    "            \n",
    "    df = pd.DataFrame(df, columns=['m', 'cv', 'train'])\n",
    "    ax = df.plot.line(x='m', y='cv')\n",
    "    df.plot.line(x='m', y='train', ax=ax)\n"
   ]
  },
  {
   "cell_type": "code",
   "execution_count": 20,
   "id": "wanted-clarity",
   "metadata": {},
   "outputs": [
    {
     "data": {
      "image/png": "[encoded data removed]",
      "text/plain": [
       "<Figure size 432x288 with 1 Axes>"
      ]
     },
     "metadata": {
      "needs_background": "light"
     },
     "output_type": "display_data"
    }
   ],
   "source": [
    "draw_learning_curve(data, P, lamb, start=70)"
   ]
  },
  {
   "cell_type": "code",
   "execution_count": 21,
   "id": "elegant-blink",
   "metadata": {},
   "outputs": [
    {
     "data": {
      "image/png": "[encoded data removed]",
      "text/plain": [
       "<Figure size 432x288 with 1 Axes>"
      ]
     },
     "metadata": {
      "needs_background": "light"
     },
     "output_type": "display_data"
    }
   ],
   "source": [
    "plot_model(data, P, theta, 0.5)"
   ]
  },
  {
   "cell_type": "code",
   "execution_count": null,
   "id": "opponent-driver",
   "metadata": {},
   "outputs": [],
   "source": []
  }
 ],
 "metadata": {
  "kernelspec": {
   "display_name": "Python 3",
   "language": "python",
   "name": "python3"
  },
  "language_info": {
   "codemirror_mode": {
    "name": "ipython",
    "version": 3
   },
   "file_extension": ".py",
   "mimetype": "text/x-python",
   "name": "python",
   "nbconvert_exporter": "python",
   "pygments_lexer": "ipython3",
   "version": "3.9.2"
  }
 },
 "nbformat": 4,
 "nbformat_minor": 5
}

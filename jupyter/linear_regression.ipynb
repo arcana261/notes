{
 "cells": [
  {
   "cell_type": "code",
   "execution_count": 3,
   "id": "cheap-exposure",
   "metadata": {},
   "outputs": [],
   "source": [
    "import pandas as pd\n",
    "import numpy as np\n",
    "import matplotlib.pyplot as plt\n",
    "import math\n",
    "from scipy import optimize"
   ]
  },
  {
   "cell_type": "code",
   "execution_count": 4,
   "id": "heated-electronics",
   "metadata": {},
   "outputs": [
    {
     "data": {
      "text/html": [
       "<div>\n",
       "<style scoped>\n",
       "    .dataframe tbody tr th:only-of-type {\n",
       "        vertical-align: middle;\n",
       "    }\n",
       "\n",
       "    .dataframe tbody tr th {\n",
       "        vertical-align: top;\n",
       "    }\n",
       "\n",
       "    .dataframe thead th {\n",
       "        text-align: right;\n",
       "    }\n",
       "</style>\n",
       "<table border=\"1\" class=\"dataframe\">\n",
       "  <thead>\n",
       "    <tr style=\"text-align: right;\">\n",
       "      <th></th>\n",
       "      <th>x</th>\n",
       "      <th>y</th>\n",
       "    </tr>\n",
       "  </thead>\n",
       "  <tbody>\n",
       "    <tr>\n",
       "      <th>0</th>\n",
       "      <td>5.0546</td>\n",
       "      <td>3.81660</td>\n",
       "    </tr>\n",
       "    <tr>\n",
       "      <th>1</th>\n",
       "      <td>7.0032</td>\n",
       "      <td>11.85400</td>\n",
       "    </tr>\n",
       "    <tr>\n",
       "      <th>2</th>\n",
       "      <td>5.1793</td>\n",
       "      <td>-0.74279</td>\n",
       "    </tr>\n",
       "    <tr>\n",
       "      <th>3</th>\n",
       "      <td>7.4239</td>\n",
       "      <td>4.28850</td>\n",
       "    </tr>\n",
       "    <tr>\n",
       "      <th>4</th>\n",
       "      <td>5.7107</td>\n",
       "      <td>3.25220</td>\n",
       "    </tr>\n",
       "  </tbody>\n",
       "</table>\n",
       "</div>"
      ],
      "text/plain": [
       "        x         y\n",
       "0  5.0546   3.81660\n",
       "1  7.0032  11.85400\n",
       "2  5.1793  -0.74279\n",
       "3  7.4239   4.28850\n",
       "4  5.7107   3.25220"
      ]
     },
     "execution_count": 4,
     "metadata": {},
     "output_type": "execute_result"
    }
   ],
   "source": [
    "data = pd \\\n",
    "    .read_csv('data/linear_regression.txt', names=['x', 'y']) \\\n",
    "    .sample(frac=1)\n",
    "data.reset_index(inplace=True, drop=True)\n",
    "data.head()"
   ]
  },
  {
   "cell_type": "code",
   "execution_count": 5,
   "id": "physical-amsterdam",
   "metadata": {
    "scrolled": true
   },
   "outputs": [
    {
     "data": {
      "text/plain": [
       "<AxesSubplot:xlabel='x', ylabel='y'>"
      ]
     },
     "execution_count": 5,
     "metadata": {},
     "output_type": "execute_result"
    },
    {
     "data": {
      "image/png": "[encoded data removed]",
      "text/plain": [
       "<Figure size 432x288 with 1 Axes>"
      ]
     },
     "metadata": {
      "needs_background": "light"
     },
     "output_type": "display_data"
    }
   ],
   "source": [
    "data.plot.scatter(x='x', y='y')"
   ]
  },
  {
   "cell_type": "code",
   "execution_count": 8,
   "id": "metallic-crisis",
   "metadata": {},
   "outputs": [],
   "source": [
    "def extract(data, start, end):\n",
    "    m = data.shape[0]\n",
    "    view = data[start:(end - 1)]\n",
    "    \n",
    "    dropped_view = view\n",
    "    if 'y' in data.columns:\n",
    "        dropped_view = dropped_view.drop('y', axis=1)\n",
    "    if 'y^' in data.columns:\n",
    "        dropped_view = dropped_view.drop('y^', axis=1)\n",
    "    X = dropped_view.to_numpy()\n",
    "    y = view['y'].to_numpy().reshape(view.shape[0], 1)\n",
    "    return X, y\n",
    "\n",
    "def expand(data, p):\n",
    "    p = p + 1\n",
    "    m = data.shape[0]\n",
    "    n = data.shape[1]\n",
    "    result = data.copy()\n",
    "    \n",
    "    pv = [0] * n\n",
    "    while True:\n",
    "        r = 1\n",
    "        sumof = 0\n",
    "        for i in range(0, n):\n",
    "            if data.columns[i] in ['y', 'y^']:\n",
    "                continue\n",
    "            pv[i] = pv[i] + r\n",
    "            r = pv[i] // p\n",
    "            pv[i] = pv[i] % p\n",
    "            sumof = sumof + pv[i]\n",
    "        if r > 0:\n",
    "            break\n",
    "        if sumof < 2:\n",
    "            continue\n",
    "        toadd = None\n",
    "        name = ''\n",
    "        for i in range(0, n):\n",
    "            if pv[i] < 1 or data.columns[i] in ['y', 'y^']:\n",
    "                continue\n",
    "            name = name + data.columns[i]\n",
    "            if pv[i] > 1:\n",
    "                name = name + '^' + str(pv[i])\n",
    "            temp = data[data.columns[i]].pow(pv[i])\n",
    "            if toadd is None:\n",
    "                toadd = temp\n",
    "            else:\n",
    "                toadd = toadd.add(temp)\n",
    "        \n",
    "        result[name] = toadd\n",
    "        \n",
    "    result.insert(0, 'x0', [1] * m)\n",
    "        \n",
    "    return result\n",
    "    \n",
    "\n",
    "def cost_fn(theta, X, y, lamb):\n",
    "    # Note: np.multiply performs element-wise multiplication instead of matrix multiplication\n",
    "    # Note: np.matmul performs matrix multiplication\n",
    "    m = X.shape[0]\n",
    "    n = X.shape[1]\n",
    "    Theta = theta.reshape(n, 1)\n",
    "    h = np.matmul(X, Theta)\n",
    "    result = h - y\n",
    "    result = np.sum(np.multiply(result, result)) / (2 * m)\n",
    "    result = result + (lamb / (2 * m)) * (np.sum(np.multiply(Theta, Theta)) - math.pow(Theta[0,0], 2))\n",
    "    \n",
    "    return result\n",
    "\n",
    "def gradient_fn(theta, X, y, lamb):\n",
    "    m = X.shape[0]\n",
    "    n = X.shape[1]\n",
    "    Theta = theta.reshape(n, 1)\n",
    "    h = np.matmul(X, Theta)\n",
    "    result = (np.matmul(X.T, (h - y)) / m)\n",
    "    \n",
    "    lamb_vector = np.ones((n, 1))\n",
    "    lamb_vector[0, 0] = 0\n",
    "    \n",
    "    result = result + (lamb / m) * np.multiply(lamb_vector, Theta)\n",
    "    \n",
    "    return result.reshape(n)\n",
    "\n",
    "def solve(X, y, lamb):\n",
    "    n = X.shape[1]\n",
    "    result = optimize.minimize(\n",
    "        lambda theta: cost_fn(theta, X, y, lamb),\n",
    "        jac=lambda theta: gradient_fn(theta, X, y, lamb),\n",
    "        x0=np.array([0] * n),\n",
    "        method='BFGS')\n",
    "    return result.x.reshape(n, 1)\n",
    "\n",
    "def check_gradient_inner(n, cost_fn, gradient_fn):\n",
    "    EPSILON = 1e-5\n",
    "    theta = np.random.rand(n)\n",
    "    result = np.zeros((n,))\n",
    "    for i in range(0, n):\n",
    "        theta[i] = theta[i] + EPSILON\n",
    "        cost_plus = cost_fn(theta)\n",
    "        theta[i] = theta[i] - 2 * EPSILON\n",
    "        cost_minus = cost_fn(theta)\n",
    "        theta[i] = theta[i] + EPSILON\n",
    "        estimated_grad = (cost_plus - cost_minus) / (2 * EPSILON)\n",
    "        real_grad = gradient_fn(theta)\n",
    "        result[i] = (estimated_grad - real_grad[i]) / real_grad[i]\n",
    "    return result\n",
    "\n",
    "def check_gradient(data, lamb):\n",
    "    m = data.shape[0]\n",
    "    expanded = expand(data, 0)\n",
    "    X, y = extract(expanded, 0, m + 1)\n",
    "    n = X.shape[1]\n",
    "    return check_gradient_inner(\n",
    "        n,\n",
    "        lambda theta: cost_fn(theta, X, y, lamb),\n",
    "        lambda theta: gradient_fn(theta, X, y, lamb),\n",
    "    )\n",
    "\n",
    "def select_model(data, max_p):\n",
    "    m = data.shape[0]\n",
    "\n",
    "    df = pd.DataFrame(index=range(1, max_p + 1), columns=['power', 'cost'])\n",
    "    for p in range(1, max_p + 1):\n",
    "        expanded = expand(data, p)\n",
    "        Xtrain, ytrain = extract(expanded, 0, math.ceil(m*0.8))\n",
    "        Xcv, ycv = extract(expanded, math.ceil(m*0.8), m + 1)\n",
    "        theta = solve(Xtrain, ytrain, 0)\n",
    "        cost = cost_fn(theta, Xcv, ycv, 0)\n",
    "        df.loc[p] = [p, cost]\n",
    "        \n",
    "    df.sort_values(by=['cost'], inplace=True)\n",
    "    df.plot.line(x=0, y=1)\n",
    "    \n",
    "    return df\n",
    "        "
   ]
  },
  {
   "cell_type": "code",
   "execution_count": 9,
   "id": "catholic-philosophy",
   "metadata": {},
   "outputs": [
    {
     "data": {
      "text/plain": [
       "array([3.34744207e-11, 2.18490663e-12])"
      ]
     },
     "execution_count": 9,
     "metadata": {},
     "output_type": "execute_result"
    }
   ],
   "source": [
    "check_gradient(data, 0)"
   ]
  },
  {
   "cell_type": "code",
   "execution_count": 11,
   "id": "rising-narrative",
   "metadata": {},
   "outputs": [
    {
     "data": {
      "text/plain": [
       "array([7.78547822e-11, 1.70484609e-12])"
      ]
     },
     "execution_count": 11,
     "metadata": {},
     "output_type": "execute_result"
    }
   ],
   "source": [
    "check_gradient(data, 10)"
   ]
  },
  {
   "cell_type": "code",
   "execution_count": 10,
   "id": "surface-rover",
   "metadata": {},
   "outputs": [
    {
     "name": "stdout",
     "output_type": "stream",
     "text": [
      "   power        cost\n",
      "1      1    3.488935\n",
      "2      2    3.490651\n",
      "3      3    3.645388\n",
      "4      4    5.924868\n",
      "5      5     5.49659\n",
      "6      6    4.718615\n",
      "7      7    9.086389\n",
      "8      8    4.244753\n",
      "9      9    3.474454\n",
      "10    10  189.522805\n"
     ]
    },
    {
     "data": {
      "image/png": "[encoded data removed]",
      "text/plain": [
       "<Figure size 432x288 with 1 Axes>"
      ]
     },
     "metadata": {
      "needs_background": "light"
     },
     "output_type": "display_data"
    }
   ],
   "source": [
    "select_model(data, 10)"
   ]
  },
  {
   "cell_type": "code",
   "execution_count": 6,
   "id": "ranking-pierce",
   "metadata": {},
   "outputs": [],
   "source": [
    "P = 4\n",
    "expanded = expand(data, P)\n",
    "X, y = extract(expanded, 0, data.shape[0] + 1)\n",
    "Xtrain, ytrain = extract(expanded, 0, math.ceil(data.shape[0] * 0.8))\n",
    "Xcv, ycv = extract(expanded, math.ceil(data.shape[0] * 0.8), data.shape[0] + 1)\n",
    "theta = solve(X, y, 0)\n",
    "del expanded\n",
    "theta"
   ]
  },
  {
   "cell_type": "code",
   "execution_count": 7,
   "id": "legislative-working",
   "metadata": {},
   "outputs": [],
   "source": [
    "def plot_model(data, P, theta, step):\n",
    "    xmin = data['x'].min()\n",
    "    xmax = data['x'].max()\n",
    "    count = math.ceil((xmax - xmin) / step)\n",
    "    Xplot = pd.DataFrame(index=range(0, count), columns=['x'])\n",
    "    Xplot['x'] = np.arange(xmin, xmax, step)\n",
    "    Xplot = expand(Xplot, P)\n",
    "    Xplot['y'] = np.matmul(Xplot.to_numpy(), theta).reshape(Xplot.shape[0])\n",
    "\n",
    "    ax = Xplot.plot.line(x='x', y='y',c='r')\n",
    "    data.plot.scatter(x='x', y='y', c='b', ax=ax)"
   ]
  },
  {
   "cell_type": "code",
   "execution_count": 8,
   "id": "together-ivory",
   "metadata": {},
   "outputs": [
    {
     "data": {
      "image/png": "[encoded data removed]",
      "text/plain": [
       "<Figure size 432x288 with 1 Axes>"
      ]
     },
     "metadata": {
      "needs_background": "light"
     },
     "output_type": "display_data"
    }
   ],
   "source": [
    "plot_model(data, P, theta, 0.5)"
   ]
  },
  {
   "cell_type": "code",
   "execution_count": 9,
   "id": "retired-future",
   "metadata": {},
   "outputs": [],
   "source": [
    "def select_lambda(Xtrain, ytrain, Xcv, ycv, begin, end, step):\n",
    "    m = data.shape[0]\n",
    "    \n",
    "    count = math.ceil((end - begin) / step)\n",
    "    df = pd.DataFrame(index=range(0, count), columns=['lambda', 'cost'])\n",
    "    \n",
    "    for i in range(0, count):\n",
    "        lamb = begin + i * step\n",
    "        theta = solve(Xtrain, ytrain, lamb)\n",
    "        cost = cost_fn(theta, Xcv, ycv, 0)\n",
    "        df.loc[i] = [lamb, cost]\n",
    "        \n",
    "    df.plot.line(x='lambda', y='cost')\n",
    "    print(df)"
   ]
  },
  {
   "cell_type": "code",
   "execution_count": 10,
   "id": "criminal-matter",
   "metadata": {},
   "outputs": [
    {
     "name": "stdout",
     "output_type": "stream",
     "text": [
      "    lambda      cost\n",
      "0        1  3.834767\n",
      "1        2  3.854181\n",
      "2        3  3.861675\n",
      "3        4  3.865663\n",
      "4        5   3.86815\n",
      "..     ...       ...\n",
      "994    995  3.936762\n",
      "995    996  3.936809\n",
      "996    997  3.936857\n",
      "997    998  3.936904\n",
      "998    999  3.936951\n",
      "\n",
      "[999 rows x 2 columns]\n"
     ]
    },
    {
     "data": {
      "image/png": "[encoded data removed]",
      "text/plain": [
       "<Figure size 432x288 with 1 Axes>"
      ]
     },
     "metadata": {
      "needs_background": "light"
     },
     "output_type": "display_data"
    }
   ],
   "source": [
    "select_lambda(Xtrain, ytrain, Xcv, ycv, 0, 1000, 1)"
   ]
  },
  {
   "cell_type": "code",
   "execution_count": 11,
   "id": "civic-country",
   "metadata": {},
   "outputs": [],
   "source": [
    "lamb = 0\n",
    "theta = solve(X, y, lamb)\n",
    "data['y^'] = np.matmul(X, theta).reshape(X.shape[0])\n",
    "theta"
   ]
  },
  {
   "cell_type": "code",
   "execution_count": 12,
   "id": "major-treasure",
   "metadata": {},
   "outputs": [],
   "source": [
    "def draw_learning_curve(data, P, lamb, start=None, end=None):\n",
    "    df = [] # m, cv, train\n",
    "    expanded = expand(data, P)\n",
    "    \n",
    "    start = start or 0\n",
    "    end = end or data.shape[0]\n",
    "    \n",
    "    for m in range(start, end + 1):  \n",
    "        Xtrain, ytrain = extract(expanded, 0, math.ceil(m*0.8))\n",
    "        Xcv, ycv = extract(expanded, math.ceil(m*0.8), m + 1)\n",
    "        if ycv.shape[0] < 1:\n",
    "            continue\n",
    "        \n",
    "        theta = solve(Xtrain, ytrain, lamb)\n",
    "        cost_train = cost_fn(theta, Xtrain, ytrain, 0)\n",
    "        cost_cv = cost_fn(theta, Xcv, ycv, 0)\n",
    "        \n",
    "        df.append([m, cost_cv, cost_train])\n",
    "            \n",
    "    df = pd.DataFrame(df, columns=['m', 'cv', 'train'])\n",
    "    ax = df.plot.line(x='m', y='cv')\n",
    "    df.plot.line(x='m', y='train', ax=ax)\n"
   ]
  },
  {
   "cell_type": "code",
   "execution_count": 13,
   "id": "innocent-timing",
   "metadata": {},
   "outputs": [
    {
     "data": {
      "image/png": "[encoded data removed]",
      "text/plain": [
       "<Figure size 432x288 with 1 Axes>"
      ]
     },
     "metadata": {
      "needs_background": "light"
     },
     "output_type": "display_data"
    }
   ],
   "source": [
    "draw_learning_curve(data, P, lamb, start=70)"
   ]
  },
  {
   "cell_type": "code",
   "execution_count": 14,
   "id": "incomplete-awareness",
   "metadata": {},
   "outputs": [
    {
     "data": {
      "image/png": "[encoded data removed]",
      "text/plain": [
       "<Figure size 432x288 with 1 Axes>"
      ]
     },
     "metadata": {
      "needs_background": "light"
     },
     "output_type": "display_data"
    }
   ],
   "source": [
    "plot_model(data, P, theta, 0.5)"
   ]
  },
  {
   "cell_type": "code",
   "execution_count": null,
   "id": "secret-malaysia",
   "metadata": {},
   "outputs": [],
   "source": []
  }
 ],
 "metadata": {
  "kernelspec": {
   "display_name": "Python 3",
   "language": "python",
   "name": "python3"
  },
  "language_info": {
   "codemirror_mode": {
    "name": "ipython",
    "version": 3
   },
   "file_extension": ".py",
   "mimetype": "text/x-python",
   "name": "python",
   "nbconvert_exporter": "python",
   "pygments_lexer": "ipython3",
   "version": "3.9.2"
  }
 },
 "nbformat": 4,
 "nbformat_minor": 5
}

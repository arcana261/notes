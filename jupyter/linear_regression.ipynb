{
 "cells": [
  {
   "cell_type": "code",
   "execution_count": 1,
   "id": "cheap-exposure",
   "metadata": {},
   "outputs": [],
   "source": [
    "import pandas as pd\n",
    "import numpy as np\n",
    "import matplotlib.pyplot as plt\n",
    "import math\n",
    "from scipy import optimize"
   ]
  },
  {
   "cell_type": "code",
   "execution_count": 2,
   "id": "heated-electronics",
   "metadata": {},
   "outputs": [
    {
     "data": {
      "text/html": [
       "<div>\n",
       "<style scoped>\n",
       "    .dataframe tbody tr th:only-of-type {\n",
       "        vertical-align: middle;\n",
       "    }\n",
       "\n",
       "    .dataframe tbody tr th {\n",
       "        vertical-align: top;\n",
       "    }\n",
       "\n",
       "    .dataframe thead th {\n",
       "        text-align: right;\n",
       "    }\n",
       "</style>\n",
       "<table border=\"1\" class=\"dataframe\">\n",
       "  <thead>\n",
       "    <tr style=\"text-align: right;\">\n",
       "      <th></th>\n",
       "      <th>x</th>\n",
       "      <th>y</th>\n",
       "    </tr>\n",
       "  </thead>\n",
       "  <tbody>\n",
       "    <tr>\n",
       "      <th>0</th>\n",
       "      <td>6.1101</td>\n",
       "      <td>17.5920</td>\n",
       "    </tr>\n",
       "    <tr>\n",
       "      <th>1</th>\n",
       "      <td>5.5277</td>\n",
       "      <td>9.1302</td>\n",
       "    </tr>\n",
       "    <tr>\n",
       "      <th>2</th>\n",
       "      <td>8.5186</td>\n",
       "      <td>13.6620</td>\n",
       "    </tr>\n",
       "    <tr>\n",
       "      <th>3</th>\n",
       "      <td>7.0032</td>\n",
       "      <td>11.8540</td>\n",
       "    </tr>\n",
       "    <tr>\n",
       "      <th>4</th>\n",
       "      <td>5.8598</td>\n",
       "      <td>6.8233</td>\n",
       "    </tr>\n",
       "  </tbody>\n",
       "</table>\n",
       "</div>"
      ],
      "text/plain": [
       "        x        y\n",
       "0  6.1101  17.5920\n",
       "1  5.5277   9.1302\n",
       "2  8.5186  13.6620\n",
       "3  7.0032  11.8540\n",
       "4  5.8598   6.8233"
      ]
     },
     "execution_count": 2,
     "metadata": {},
     "output_type": "execute_result"
    }
   ],
   "source": [
    "data=pd.read_csv('data/linear_regression.txt', names=['x', 'y'])\n",
    "data.head()"
   ]
  },
  {
   "cell_type": "code",
   "execution_count": 3,
   "id": "physical-amsterdam",
   "metadata": {
    "scrolled": true
   },
   "outputs": [
    {
     "data": {
      "text/plain": [
       "<AxesSubplot:xlabel='x', ylabel='y'>"
      ]
     },
     "execution_count": 3,
     "metadata": {},
     "output_type": "execute_result"
    },
    {
     "data": {
      "image/png": "[encoded data removed]",
      "text/plain": [
       "<Figure size 432x288 with 1 Axes>"
      ]
     },
     "metadata": {
      "needs_background": "light"
     },
     "output_type": "display_data"
    }
   ],
   "source": [
    "data.plot.scatter(x='x', y='y')"
   ]
  },
  {
   "cell_type": "code",
   "execution_count": 4,
   "id": "absolute-pacific",
   "metadata": {},
   "outputs": [
    {
     "data": {
      "text/plain": [
       "array([[ 5.1077,  2.0576],\n",
       "       [ 6.1891,  3.1386],\n",
       "       [ 5.8014,  1.844 ],\n",
       "       [ 8.5186, 13.662 ],\n",
       "       [ 6.8825,  3.9115],\n",
       "       [ 6.4296,  3.6518],\n",
       "       [ 5.8598,  6.8233],\n",
       "       [ 5.0702,  5.1337],\n",
       "       [18.945 , 22.638 ],\n",
       "       [ 7.4764,  4.3483]])"
      ]
     },
     "execution_count": 4,
     "metadata": {},
     "output_type": "execute_result"
    }
   ],
   "source": [
    "data_np = data.to_numpy()\n",
    "np.random.shuffle(data_np)\n",
    "data_np[0:10]"
   ]
  },
  {
   "cell_type": "code",
   "execution_count": 5,
   "id": "metallic-crisis",
   "metadata": {},
   "outputs": [],
   "source": [
    "def extract(data_np, start, end):\n",
    "    X = None\n",
    "    y = None\n",
    "    n = data_np.shape[1]\n",
    "    for i in range(start, end):\n",
    "        if X is None:\n",
    "            X = data_np[i, 0:(n-1)].reshape(1, n - 1)                      \n",
    "            y = data_np[i, n-1].reshape(1, 1)\n",
    "        else:\n",
    "            X = np.concatenate((X, data_np[i, 0:(n-1)].reshape(1, n - 1)))  \n",
    "            y = np.concatenate((y, data_np[i, n-1].reshape(1, 1)))\n",
    "    return X, y\n",
    "\n",
    "def expand(X, p):\n",
    "    p = p + 1\n",
    "    m = X.shape[0]\n",
    "    n = X.shape[1]\n",
    "    result = np.concatenate((\n",
    "        np.ones((m, 1)),\n",
    "        X\n",
    "    ), axis=1)\n",
    "    \n",
    "    pv = [0] * n\n",
    "    while True:\n",
    "        r = 1\n",
    "        sumof = 0\n",
    "        for i in range(0, n):\n",
    "            pv[i] = pv[i] + r\n",
    "            r = pv[i] // p\n",
    "            pv[i] = pv[i] % p\n",
    "            sumof = sumof + pv[i]\n",
    "        if r > 0:\n",
    "            break\n",
    "        if sumof < 2:\n",
    "            continue\n",
    "        toadd = None\n",
    "        for i in range(0, n):\n",
    "            if pv[i] < 1:\n",
    "                continue\n",
    "            temp = np.power(X[:, i], pv[i]).reshape(m, 1)\n",
    "            if toadd is None:\n",
    "                toadd = temp\n",
    "            else:\n",
    "                toadd = toadd + temp\n",
    "        result = np.concatenate((\n",
    "            result,\n",
    "            toadd\n",
    "        ), axis=1)\n",
    "    return result\n",
    "    \n",
    "\n",
    "def cost_fn(theta, X, y, lamb):\n",
    "    # Note: np.multiply performs element-wise multiplication instead of matrix multiplication\n",
    "    # Note: np.matmul performs matrix multiplication\n",
    "    m = X.shape[0]\n",
    "    n = X.shape[1]\n",
    "    Theta = theta.reshape(n, 1)\n",
    "    h = np.matmul(X, Theta)\n",
    "    result = h - y\n",
    "    result = np.sum(np.multiply(result, result)) / (2 * m)\n",
    "    result = result + (lamb / (2 * m)) * (np.sum(np.multiply(Theta, Theta)) - math.pow(Theta[0,0], 2))\n",
    "    \n",
    "    return result\n",
    "\n",
    "def gradient_fn(theta, X, y, lamb):\n",
    "    m = X.shape[0]\n",
    "    n = X.shape[1]\n",
    "    Theta = theta.reshape(n, 1)\n",
    "    h = np.matmul(X, Theta)\n",
    "    result = (np.matmul(X.T, (h - y)) / m)\n",
    "    \n",
    "    lamb_vector = np.ones((n, 1))\n",
    "    lamb_vector[0, 0] = 0\n",
    "    \n",
    "    result = result + (lamb / m) * np.multiply(lamb_vector, Theta)\n",
    "    \n",
    "    return result.reshape(n)\n",
    "\n",
    "def solve(X, y, lamb):\n",
    "    n = X.shape[1]\n",
    "    result = optimize.minimize(\n",
    "        lambda theta: cost_fn(theta, X, y, lamb),\n",
    "        jac=lambda theta: gradient_fn(theta, X, y, lamb),\n",
    "        x0=np.array([0] * n),\n",
    "        method='BFGS')\n",
    "    return result.x.reshape(n, 1)\n",
    "\n",
    "def select_model(data_np, max_p):\n",
    "    m = data_np.shape[0]\n",
    "    Xtrain, ytrain = extract(data_np, 0, math.ceil(m*0.6))\n",
    "    Xcv, ycv = extract(data_np, math.ceil(m*0.6), math.ceil(m*0.8))\n",
    "    Xtest, ytest = extract(data_np, math.ceil(m*0.8),m)\n",
    "    df = None\n",
    "    for p in range(1, max_p):\n",
    "        Xtrain_ex = expand(Xtrain, p)\n",
    "        Xcv_ex = expand(Xcv, p)\n",
    "        theta = solve(Xtrain_ex, ytrain, 0)\n",
    "        cost = cost_fn(theta, Xcv_ex, ycv, 0)\n",
    "        if df is None:\n",
    "            df = pd.DataFrame([[p, cost]])\n",
    "        else:\n",
    "            df = df.append(pd.DataFrame([[p, cost]]))\n",
    "    df.plot.line(x=0, y=1)\n",
    "        "
   ]
  },
  {
   "cell_type": "code",
   "execution_count": 6,
   "id": "informal-republican",
   "metadata": {},
   "outputs": [
    {
     "data": {
      "image/png": "[encoded data removed]",
      "text/plain": [
       "<Figure size 432x288 with 1 Axes>"
      ]
     },
     "metadata": {
      "needs_background": "light"
     },
     "output_type": "display_data"
    }
   ],
   "source": [
    "select_model(data_np, 10)"
   ]
  },
  {
   "cell_type": "code",
   "execution_count": 7,
   "id": "durable-chile",
   "metadata": {},
   "outputs": [
    {
     "data": {
      "image/png": "[encoded data removed]",
      "text/plain": [
       "<Figure size 432x288 with 1 Axes>"
      ]
     },
     "metadata": {
      "needs_background": "light"
     },
     "output_type": "display_data"
    }
   ],
   "source": [
    "P = 4\n",
    "\n",
    "def plot_model():\n",
    "    m = data.shape[0]\n",
    "    X, y = extract(data_np, 0, m)\n",
    "    X = expand(X, P)\n",
    "    n = X.shape[1]\n",
    "    theta = solve(X, y, 0)\n",
    "    Xsorted = X[X[:,1].argsort()]\n",
    "    yhat = np.matmul(Xsorted, theta)\n",
    "\n",
    "    plt.plot(Xsorted[:,1], yhat, color = 'r')\n",
    "    plt.scatter(X[:,1], y)\n",
    "    \n",
    "plot_model()"
   ]
  },
  {
   "cell_type": "code",
   "execution_count": 12,
   "id": "retired-future",
   "metadata": {},
   "outputs": [],
   "source": [
    "def select_lambda(data_np, P, begin, end, step):\n",
    "    m = data.shape[0]\n",
    "    Xtrain, ytrain = extract(data_np, 0, math.ceil(m * 0.8))\n",
    "    Xcv, ycv = extract(data_np, math.ceil(m * 0.8), m)\n",
    "    Xtrain = expand(Xtrain, P)\n",
    "    Xcv = expand(Xcv, P)\n",
    "    \n",
    "    lamb = begin\n",
    "    df = None\n",
    "    while lamb < end:\n",
    "        theta = solve(Xtrain, ytrain, lamb)\n",
    "        cost = cost_fn(theta, Xcv, ycv, 0)\n",
    "        if df is None:\n",
    "            df = pd.DataFrame([[lamb, cost]])\n",
    "        else:\n",
    "            df = df.append(pd.DataFrame([[lamb, cost]]))\n",
    "        lamb = lamb + step\n",
    "        \n",
    "    df.plot.line(x=0, y=1)"
   ]
  },
  {
   "cell_type": "code",
   "execution_count": 13,
   "id": "criminal-matter",
   "metadata": {},
   "outputs": [
    {
     "data": {
      "image/png": "[encoded data removed]",
      "text/plain": [
       "<Figure size 432x288 with 1 Axes>"
      ]
     },
     "metadata": {
      "needs_background": "light"
     },
     "output_type": "display_data"
    }
   ],
   "source": [
    "select_lambda(data_np, P, 0, 100, 2)"
   ]
  },
  {
   "cell_type": "code",
   "execution_count": 14,
   "id": "civic-country",
   "metadata": {},
   "outputs": [],
   "source": [
    "lamb = 0"
   ]
  },
  {
   "cell_type": "code",
   "execution_count": 24,
   "id": "major-treasure",
   "metadata": {},
   "outputs": [
    {
     "data": {
      "image/png": "[encoded data removed]",
      "text/plain": [
       "<Figure size 432x288 with 1 Axes>"
      ]
     },
     "metadata": {
      "needs_background": "light"
     },
     "output_type": "display_data"
    }
   ],
   "source": [
    "def draw_learning_curve(data_np, P, lamb, start):\n",
    "    M = data.shape[0]\n",
    "    m = start\n",
    "    df_cv = None\n",
    "    df_train = None\n",
    "    \n",
    "    while m <= M:\n",
    "        Xtrain, ytrain = extract(data_np, 0, math.ceil(m * 0.8))\n",
    "        Xcv, ycv = extract(data_np, math.ceil(m * 0.8), m)\n",
    "        Xtrain = expand(Xtrain, P)\n",
    "        Xcv = expand(Xcv, P)\n",
    "        \n",
    "        theta = solve(Xtrain, ytrain, lamb)\n",
    "        cost_train = cost_fn(theta, Xtrain, ytrain, 0)\n",
    "        cost_cv = cost_fn(theta, Xcv, ycv, 0)\n",
    "        \n",
    "        temp_cv = pd.DataFrame([[m, cost_cv]], columns=['m', 'cv'])\n",
    "        temp_train = pd.DataFrame([[m, cost_train]], columns=['m', 'train'])\n",
    "        \n",
    "        if df_cv is None:\n",
    "            df_cv = temp_cv\n",
    "            df_train = temp_train\n",
    "        else:\n",
    "            df_cv = df_cv.append(temp_cv)\n",
    "            df_train = df_train.append(temp_train)\n",
    "        m = m + 1\n",
    "            \n",
    "    ax = df_cv.plot.line(x='m', y='cv')\n",
    "    df_train.plot.line(x='m', y='train', ax=ax)\n",
    "    \n",
    "draw_learning_curve(data_np, P, lamb, 25)"
   ]
  },
  {
   "cell_type": "code",
   "execution_count": null,
   "id": "affiliated-silly",
   "metadata": {},
   "outputs": [],
   "source": []
  }
 ],
 "metadata": {
  "kernelspec": {
   "display_name": "Python 3",
   "language": "python",
   "name": "python3"
  },
  "language_info": {
   "codemirror_mode": {
    "name": "ipython",
    "version": 3
   },
   "file_extension": ".py",
   "mimetype": "text/x-python",
   "name": "python",
   "nbconvert_exporter": "python",
   "pygments_lexer": "ipython3",
   "version": "3.9.2"
  }
 },
 "nbformat": 4,
 "nbformat_minor": 5
}

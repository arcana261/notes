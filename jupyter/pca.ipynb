{
 "cells": [
  {
   "cell_type": "code",
   "execution_count": 60,
   "id": "present-dining",
   "metadata": {},
   "outputs": [],
   "source": [
    "from scipy.io import loadmat\n",
    "import pandas as pd\n",
    "import numpy as np\n",
    "from matplotlib import pyplot as plt"
   ]
  },
  {
   "cell_type": "code",
   "execution_count": 6,
   "id": "eight-practitioner",
   "metadata": {},
   "outputs": [
    {
     "data": {
      "text/html": [
       "<div>\n",
       "<style scoped>\n",
       "    .dataframe tbody tr th:only-of-type {\n",
       "        vertical-align: middle;\n",
       "    }\n",
       "\n",
       "    .dataframe tbody tr th {\n",
       "        vertical-align: top;\n",
       "    }\n",
       "\n",
       "    .dataframe thead th {\n",
       "        text-align: right;\n",
       "    }\n",
       "</style>\n",
       "<table border=\"1\" class=\"dataframe\">\n",
       "  <thead>\n",
       "    <tr style=\"text-align: right;\">\n",
       "      <th></th>\n",
       "      <th>x</th>\n",
       "      <th>y</th>\n",
       "    </tr>\n",
       "  </thead>\n",
       "  <tbody>\n",
       "    <tr>\n",
       "      <th>count</th>\n",
       "      <td>5.000000e+01</td>\n",
       "      <td>5.000000e+01</td>\n",
       "    </tr>\n",
       "    <tr>\n",
       "      <th>mean</th>\n",
       "      <td>-1.154632e-16</td>\n",
       "      <td>2.486900e-16</td>\n",
       "    </tr>\n",
       "    <tr>\n",
       "      <th>std</th>\n",
       "      <td>1.000000e+00</td>\n",
       "      <td>1.000000e+00</td>\n",
       "    </tr>\n",
       "    <tr>\n",
       "      <th>min</th>\n",
       "      <td>-2.394640e+00</td>\n",
       "      <td>-2.075528e+00</td>\n",
       "    </tr>\n",
       "    <tr>\n",
       "      <th>25%</th>\n",
       "      <td>-7.997354e-01</td>\n",
       "      <td>-5.712237e-01</td>\n",
       "    </tr>\n",
       "    <tr>\n",
       "      <th>50%</th>\n",
       "      <td>-2.196037e-02</td>\n",
       "      <td>9.849625e-03</td>\n",
       "    </tr>\n",
       "    <tr>\n",
       "      <th>75%</th>\n",
       "      <td>7.689532e-01</td>\n",
       "      <td>7.892240e-01</td>\n",
       "    </tr>\n",
       "    <tr>\n",
       "      <th>max</th>\n",
       "      <td>1.638492e+00</td>\n",
       "      <td>2.306403e+00</td>\n",
       "    </tr>\n",
       "  </tbody>\n",
       "</table>\n",
       "</div>"
      ],
      "text/plain": [
       "                  x             y\n",
       "count  5.000000e+01  5.000000e+01\n",
       "mean  -1.154632e-16  2.486900e-16\n",
       "std    1.000000e+00  1.000000e+00\n",
       "min   -2.394640e+00 -2.075528e+00\n",
       "25%   -7.997354e-01 -5.712237e-01\n",
       "50%   -2.196037e-02  9.849625e-03\n",
       "75%    7.689532e-01  7.892240e-01\n",
       "max    1.638492e+00  2.306403e+00"
      ]
     },
     "execution_count": 6,
     "metadata": {},
     "output_type": "execute_result"
    }
   ],
   "source": [
    "mat = loadmat('data/pca.mat')\n",
    "data = pd.DataFrame(mat['X'], columns=['x', 'y'])\n",
    "del mat\n",
    "data = data.sample(frac=1)\n",
    "\n",
    "data['x'] = (data['x'] - data['x'].mean()) / data['x'].std()\n",
    "data['y'] = (data['y'] - data['y'].mean()) / data['y'].std()\n",
    "\n",
    "data.describe()"
   ]
  },
  {
   "cell_type": "code",
   "execution_count": 7,
   "id": "pointed-voluntary",
   "metadata": {},
   "outputs": [
    {
     "data": {
      "text/html": [
       "<div>\n",
       "<style scoped>\n",
       "    .dataframe tbody tr th:only-of-type {\n",
       "        vertical-align: middle;\n",
       "    }\n",
       "\n",
       "    .dataframe tbody tr th {\n",
       "        vertical-align: top;\n",
       "    }\n",
       "\n",
       "    .dataframe thead th {\n",
       "        text-align: right;\n",
       "    }\n",
       "</style>\n",
       "<table border=\"1\" class=\"dataframe\">\n",
       "  <thead>\n",
       "    <tr style=\"text-align: right;\">\n",
       "      <th></th>\n",
       "      <th>x</th>\n",
       "      <th>y</th>\n",
       "    </tr>\n",
       "  </thead>\n",
       "  <tbody>\n",
       "    <tr>\n",
       "      <th>14</th>\n",
       "      <td>-0.983270</td>\n",
       "      <td>-1.206546</td>\n",
       "    </tr>\n",
       "    <tr>\n",
       "      <th>25</th>\n",
       "      <td>-0.652518</td>\n",
       "      <td>-0.058872</td>\n",
       "    </tr>\n",
       "    <tr>\n",
       "      <th>3</th>\n",
       "      <td>-1.043460</td>\n",
       "      <td>-1.257946</td>\n",
       "    </tr>\n",
       "    <tr>\n",
       "      <th>15</th>\n",
       "      <td>1.403184</td>\n",
       "      <td>1.279362</td>\n",
       "    </tr>\n",
       "    <tr>\n",
       "      <th>22</th>\n",
       "      <td>1.406686</td>\n",
       "      <td>1.092067</td>\n",
       "    </tr>\n",
       "  </tbody>\n",
       "</table>\n",
       "</div>"
      ],
      "text/plain": [
       "           x         y\n",
       "14 -0.983270 -1.206546\n",
       "25 -0.652518 -0.058872\n",
       "3  -1.043460 -1.257946\n",
       "15  1.403184  1.279362\n",
       "22  1.406686  1.092067"
      ]
     },
     "execution_count": 7,
     "metadata": {},
     "output_type": "execute_result"
    }
   ],
   "source": [
    "data.head()"
   ]
  },
  {
   "cell_type": "code",
   "execution_count": 8,
   "id": "acoustic-province",
   "metadata": {},
   "outputs": [
    {
     "data": {
      "text/plain": [
       "<AxesSubplot:xlabel='x', ylabel='y'>"
      ]
     },
     "execution_count": 8,
     "metadata": {},
     "output_type": "execute_result"
    },
    {
     "data": {
      "image/png": "[encoded data removed]",
      "text/plain": [
       "<Figure size 432x288 with 1 Axes>"
      ]
     },
     "metadata": {
      "needs_background": "light"
     },
     "output_type": "display_data"
    }
   ],
   "source": [
    "data.plot.scatter(x='x', y='y')"
   ]
  },
  {
   "cell_type": "code",
   "execution_count": 55,
   "id": "economic-tuesday",
   "metadata": {},
   "outputs": [
    {
     "data": {
      "text/plain": [
       "array([[0.98      , 0.72081977],\n",
       "       [0.72081977, 0.98      ]])"
      ]
     },
     "execution_count": 55,
     "metadata": {},
     "output_type": "execute_result"
    }
   ],
   "source": [
    "X = data.to_numpy()\n",
    "m = X.shape[0]\n",
    "n = X.shape[1]\n",
    "Sigma = np.matmul(X.T, X) / m\n",
    "Sigma"
   ]
  },
  {
   "cell_type": "code",
   "execution_count": 50,
   "id": "extensive-expert",
   "metadata": {},
   "outputs": [],
   "source": [
    "U, S, V = np.linalg.svd(Sigma)"
   ]
  },
  {
   "cell_type": "code",
   "execution_count": 51,
   "id": "capable-adventure",
   "metadata": {},
   "outputs": [
    {
     "data": {
      "text/plain": [
       "array([[-0.70710678, -0.70710678],\n",
       "       [-0.70710678,  0.70710678]])"
      ]
     },
     "execution_count": 51,
     "metadata": {},
     "output_type": "execute_result"
    }
   ],
   "source": [
    "U"
   ]
  },
  {
   "cell_type": "code",
   "execution_count": 52,
   "id": "stopped-manitoba",
   "metadata": {},
   "outputs": [
    {
     "data": {
      "text/plain": [
       "array([1.70081977, 0.25918023])"
      ]
     },
     "execution_count": 52,
     "metadata": {},
     "output_type": "execute_result"
    }
   ],
   "source": [
    "S"
   ]
  },
  {
   "cell_type": "code",
   "execution_count": 53,
   "id": "overall-albuquerque",
   "metadata": {},
   "outputs": [
    {
     "data": {
      "text/plain": [
       "array([[-0.70710678, -0.70710678],\n",
       "       [-0.70710678,  0.70710678]])"
      ]
     },
     "execution_count": 53,
     "metadata": {},
     "output_type": "execute_result"
    }
   ],
   "source": [
    "V"
   ]
  },
  {
   "cell_type": "code",
   "execution_count": 54,
   "id": "subjective-saskatchewan",
   "metadata": {},
   "outputs": [
    {
     "data": {
      "text/plain": [
       "[0.8677651881696647, 1.0]"
      ]
     },
     "execution_count": 54,
     "metadata": {},
     "output_type": "execute_result"
    }
   ],
   "source": [
    "decision = []\n",
    "S_sum = np.sum(S)\n",
    "for s in S:\n",
    "    if len(decision) == 0:\n",
    "        decision.append(s / S_sum)\n",
    "    else:\n",
    "        decision.append(decision[-1] + (s / S_sum))\n",
    "decision"
   ]
  },
  {
   "cell_type": "code",
   "execution_count": 56,
   "id": "constant-security",
   "metadata": {},
   "outputs": [
    {
     "data": {
      "text/plain": [
       "array([[-0.70710678],\n",
       "       [-0.70710678]])"
      ]
     },
     "execution_count": 56,
     "metadata": {},
     "output_type": "execute_result"
    }
   ],
   "source": [
    "u = U[:, 0].reshape(n, 1)\n",
    "u"
   ]
  },
  {
   "cell_type": "code",
   "execution_count": 59,
   "id": "adaptive-reliance",
   "metadata": {},
   "outputs": [
    {
     "data": {
      "text/plain": [
       "array([[ 1.548434  ],\n",
       "       [ 0.5030287 ],\n",
       "       [ 1.62734009],\n",
       "       [-1.89684585],\n",
       "       [-1.76688508],\n",
       "       [ 1.28362916],\n",
       "       [-1.33938187],\n",
       "       [-0.97972107],\n",
       "       [-2.19518524],\n",
       "       [ 1.3252858 ],\n",
       "       [ 1.21208656],\n",
       "       [-2.30653955],\n",
       "       [-1.42814204],\n",
       "       [-0.00686207],\n",
       "       [-0.58656923],\n",
       "       [ 0.94646472],\n",
       "       [-1.16020771],\n",
       "       [ 0.8792732 ],\n",
       "       [ 1.48127391],\n",
       "       [ 1.25605967],\n",
       "       [ 1.64838858],\n",
       "       [-0.26923019],\n",
       "       [-1.2246766 ],\n",
       "       [ 1.26042409],\n",
       "       [-0.27570789],\n",
       "       [ 0.38509662],\n",
       "       [ 0.83375215],\n",
       "       [-0.77386123],\n",
       "       [-0.62532902],\n",
       "       [ 0.36423084],\n",
       "       [ 2.53419743],\n",
       "       [-0.96700223],\n",
       "       [-0.02968998],\n",
       "       [-0.4731351 ],\n",
       "       [-0.54724542],\n",
       "       [ 0.0512347 ],\n",
       "       [ 1.67053477],\n",
       "       [-0.08878025],\n",
       "       [-1.49788781],\n",
       "       [ 0.67225099],\n",
       "       [ 1.20080033],\n",
       "       [ 1.79450473],\n",
       "       [-2.31794969],\n",
       "       [-0.87788459],\n",
       "       [-0.91291229],\n",
       "       [-1.37836539],\n",
       "       [-0.96695982],\n",
       "       [-0.22565101],\n",
       "       [-0.520569  ],\n",
       "       [ 3.16088618]])"
      ]
     },
     "execution_count": 59,
     "metadata": {},
     "output_type": "execute_result"
    }
   ],
   "source": [
    "x = np.matmul(X, u)\n",
    "x"
   ]
  },
  {
   "cell_type": "code",
   "execution_count": 63,
   "id": "educational-crazy",
   "metadata": {},
   "outputs": [
    {
     "data": {
      "text/plain": [
       "<matplotlib.collections.PathCollection at 0x24ceceff4f0>"
      ]
     },
     "execution_count": 63,
     "metadata": {},
     "output_type": "execute_result"
    },
    {
     "data": {
      "image/png": "[encoded data removed]",
      "text/plain": [
       "<Figure size 432x288 with 1 Axes>"
      ]
     },
     "metadata": {
      "needs_background": "light"
     },
     "output_type": "display_data"
    }
   ],
   "source": [
    "X_rec = np.matmul(x, u.T)\n",
    "plt.scatter(X_rec[:, 0], X_rec[:, 1], c='red')\n",
    "plt.scatter(X[:, 0], X[:, 1], c='blue')"
   ]
  },
  {
   "cell_type": "code",
   "execution_count": null,
   "id": "legislative-mineral",
   "metadata": {},
   "outputs": [],
   "source": []
  }
 ],
 "metadata": {
  "kernelspec": {
   "display_name": "Python 3",
   "language": "python",
   "name": "python3"
  },
  "language_info": {
   "codemirror_mode": {
    "name": "ipython",
    "version": 3
   },
   "file_extension": ".py",
   "mimetype": "text/x-python",
   "name": "python",
   "nbconvert_exporter": "python",
   "pygments_lexer": "ipython3",
   "version": "3.9.2"
  }
 },
 "nbformat": 4,
 "nbformat_minor": 5
}

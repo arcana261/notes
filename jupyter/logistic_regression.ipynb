{
 "cells": [
  {
   "cell_type": "code",
   "execution_count": 1,
   "id": "tribal-actress",
   "metadata": {},
   "outputs": [],
   "source": [
    "import numpy as np\n",
    "import pandas as pd\n",
    "import math\n",
    "from scipy import optimize"
   ]
  },
  {
   "cell_type": "code",
   "execution_count": 9,
   "id": "computational-liquid",
   "metadata": {},
   "outputs": [
    {
     "data": {
      "text/html": [
       "<div>\n",
       "<style scoped>\n",
       "    .dataframe tbody tr th:only-of-type {\n",
       "        vertical-align: middle;\n",
       "    }\n",
       "\n",
       "    .dataframe tbody tr th {\n",
       "        vertical-align: top;\n",
       "    }\n",
       "\n",
       "    .dataframe thead th {\n",
       "        text-align: right;\n",
       "    }\n",
       "</style>\n",
       "<table border=\"1\" class=\"dataframe\">\n",
       "  <thead>\n",
       "    <tr style=\"text-align: right;\">\n",
       "      <th></th>\n",
       "      <th>x1</th>\n",
       "      <th>x2</th>\n",
       "      <th>y</th>\n",
       "    </tr>\n",
       "  </thead>\n",
       "  <tbody>\n",
       "    <tr>\n",
       "      <th>0</th>\n",
       "      <td>74.492692</td>\n",
       "      <td>84.845137</td>\n",
       "      <td>1</td>\n",
       "    </tr>\n",
       "    <tr>\n",
       "      <th>1</th>\n",
       "      <td>90.448551</td>\n",
       "      <td>87.508792</td>\n",
       "      <td>1</td>\n",
       "    </tr>\n",
       "    <tr>\n",
       "      <th>2</th>\n",
       "      <td>99.315009</td>\n",
       "      <td>68.775409</td>\n",
       "      <td>1</td>\n",
       "    </tr>\n",
       "    <tr>\n",
       "      <th>3</th>\n",
       "      <td>76.098787</td>\n",
       "      <td>87.420570</td>\n",
       "      <td>1</td>\n",
       "    </tr>\n",
       "    <tr>\n",
       "      <th>4</th>\n",
       "      <td>74.248691</td>\n",
       "      <td>69.824571</td>\n",
       "      <td>1</td>\n",
       "    </tr>\n",
       "  </tbody>\n",
       "</table>\n",
       "</div>"
      ],
      "text/plain": [
       "          x1         x2  y\n",
       "0  74.492692  84.845137  1\n",
       "1  90.448551  87.508792  1\n",
       "2  99.315009  68.775409  1\n",
       "3  76.098787  87.420570  1\n",
       "4  74.248691  69.824571  1"
      ]
     },
     "execution_count": 9,
     "metadata": {},
     "output_type": "execute_result"
    }
   ],
   "source": [
    "data = pd \\\n",
    "    .read_csv('data/logistic_regression.txt', names=['x1', 'x2', 'y']) \\\n",
    "    .sample(frac=1)\n",
    "data.reset_index(inplace=True, drop=True)\n",
    "data.head()"
   ]
  },
  {
   "cell_type": "code",
   "execution_count": 10,
   "id": "sharp-justice",
   "metadata": {},
   "outputs": [
    {
     "data": {
      "text/plain": [
       "<AxesSubplot:xlabel='x1', ylabel='x2'>"
      ]
     },
     "execution_count": 10,
     "metadata": {},
     "output_type": "execute_result"
    },
    {
     "data": {
      "image/png": "[encoded data removed]",
      "text/plain": [
       "<Figure size 432x288 with 1 Axes>"
      ]
     },
     "metadata": {
      "needs_background": "light"
     },
     "output_type": "display_data"
    }
   ],
   "source": [
    "ax = data[data['y'] == 0].plot.scatter(x='x1', y='x2', c='red')\n",
    "data[data['y'] == 1].plot.scatter(x='x1', y='x2', c='blue', ax=ax)"
   ]
  },
  {
   "cell_type": "code",
   "execution_count": 11,
   "id": "surprising-cleaner",
   "metadata": {},
   "outputs": [
    {
     "data": {
      "text/plain": [
       "array([[99.27252693, 60.999031  ,  1.        ],\n",
       "       [62.27101367, 69.95445795,  1.        ],\n",
       "       [64.03932042, 78.03168802,  1.        ],\n",
       "       [34.52451385, 60.39634246,  0.        ],\n",
       "       [44.66826172, 66.45008615,  0.        ],\n",
       "       [45.08327748, 56.31637178,  0.        ],\n",
       "       [53.97105215, 89.20735014,  1.        ],\n",
       "       [75.47770201, 90.424539  ,  1.        ],\n",
       "       [62.0730638 , 96.76882412,  1.        ],\n",
       "       [75.02474557, 46.55401354,  1.        ]])"
      ]
     },
     "execution_count": 11,
     "metadata": {},
     "output_type": "execute_result"
    }
   ],
   "source": [
    "data_np = data.to_numpy()\n",
    "np.random.shuffle(data_np)\n",
    "data_np[0:10]"
   ]
  },
  {
   "cell_type": "code",
   "execution_count": 24,
   "id": "classical-particle",
   "metadata": {},
   "outputs": [],
   "source": [
    "def extract(data_np, start, end):\n",
    "    X = None\n",
    "    y = None\n",
    "    n = data_np.shape[1]\n",
    "    for i in range(start, end):\n",
    "        if X is None:\n",
    "            X = data_np[i, 0:(n-1)].reshape(1, n - 1)                      \n",
    "            y = data_np[i, n-1].reshape(1, 1)\n",
    "        else:\n",
    "            X = np.concatenate((X, data_np[i, 0:(n-1)].reshape(1, n - 1)))  \n",
    "            y = np.concatenate((y, data_np[i, n-1].reshape(1, 1)))\n",
    "    return X, y\n",
    "\n",
    "def expand(X, p):\n",
    "    p = p + 1\n",
    "    m = X.shape[0]\n",
    "    n = X.shape[1]\n",
    "    result = np.concatenate((\n",
    "        np.ones((m, 1)),\n",
    "        X\n",
    "    ), axis=1)\n",
    "    \n",
    "    pv = [0] * n\n",
    "    while True:\n",
    "        r = 1\n",
    "        sumof = 0\n",
    "        for i in range(0, n):\n",
    "            pv[i] = pv[i] + r\n",
    "            r = pv[i] // p\n",
    "            pv[i] = pv[i] % p\n",
    "            sumof = sumof + pv[i]\n",
    "        if r > 0:\n",
    "            break\n",
    "        if sumof < 2:\n",
    "            continue\n",
    "        toadd = None\n",
    "        #print(pv)\n",
    "        for i in range(0, n):\n",
    "            if pv[i] < 1:\n",
    "                continue\n",
    "            temp = np.power(X[:, i], pv[i]).reshape(m, 1)\n",
    "            if toadd is None:\n",
    "                toadd = temp\n",
    "            else:\n",
    "                toadd = toadd + temp\n",
    "        result = np.concatenate((\n",
    "            result,\n",
    "            toadd\n",
    "        ), axis=1)\n",
    "    return result\n",
    "    \n",
    "\n",
    "def cost_fn(theta, X, y, lamb):\n",
    "    # Note: np.multiply performs element-wise multiplication instead of matrix multiplication\n",
    "    # Note: np.matmul performs matrix multiplication\n",
    "    m = X.shape[0]\n",
    "    n = X.shape[1]\n",
    "    Theta = theta.reshape(n, 1)\n",
    "    \n",
    "    h = 1 / (1 + np.exp(-np.matmul(X, Theta)))\n",
    "    result = (np.matmul(y.T, np.log(h)) + np.matmul(1 - y.T, 1 - h))[0,0] / (-m)\n",
    "    result = result + (lamb / (2 * m)) * (np.sum(np.multiply(Theta, Theta)) - math.pow(Theta[0,0], 2))\n",
    "    \n",
    "    return result\n",
    "\n",
    "def gradient_fn(theta, X, y, lamb):\n",
    "    m = X.shape[0]\n",
    "    n = X.shape[1]\n",
    "    Theta = theta.reshape(n, 1)\n",
    "    h = 1 / (1 + np.exp(-np.matmul(X, Theta)))\n",
    "    result = (np.matmul(X.T, (h - y)) / m)\n",
    "    \n",
    "    lamb_vector = np.ones((n, 1))\n",
    "    lamb_vector[0, 0] = 0\n",
    "    \n",
    "    result = result + (lamb / m) * np.multiply(lamb_vector, Theta)\n",
    "    \n",
    "    return result.reshape(n)\n",
    "\n",
    "def solve(X, y, lamb):\n",
    "    n = X.shape[1]\n",
    "    result = optimize.minimize(\n",
    "        lambda theta: cost_fn(theta, X, y, lamb),\n",
    "        jac=lambda theta: gradient_fn(theta, X, y, lamb),\n",
    "        x0=np.array([0] * n),\n",
    "        method='BFGS')\n",
    "    return result.x.reshape(n, 1)\n",
    "\n",
    "def select_model(data_np, max_p):\n",
    "    m = data_np.shape[0]\n",
    "    Xtrain, ytrain = extract(data_np, 0, math.ceil(m*0.6))\n",
    "    Xcv, ycv = extract(data_np, math.ceil(m*0.6), math.ceil(m*0.8))\n",
    "    Xtest, ytest = extract(data_np, math.ceil(m*0.8),m)\n",
    "    df = None\n",
    "    for p in range(1, max_p):\n",
    "        Xtrain_ex = expand(Xtrain, p)\n",
    "        Xcv_ex = expand(Xcv, p)\n",
    "        theta = solve(Xtrain_ex, ytrain, 0)\n",
    "        cost = cost_fn(theta, Xcv_ex, ycv, 0)\n",
    "        if df is None:\n",
    "            df = pd.DataFrame([[p, cost]])\n",
    "        else:\n",
    "            df = df.append(pd.DataFrame([[p, cost]]))\n",
    "    df.plot.line(x=0, y=1)\n",
    "        "
   ]
  },
  {
   "cell_type": "code",
   "execution_count": 28,
   "id": "soviet-concept",
   "metadata": {},
   "outputs": [
    {
     "data": {
      "image/png": "[encoded data removed]",
      "text/plain": [
       "<Figure size 432x288 with 1 Axes>"
      ]
     },
     "metadata": {
      "needs_background": "light"
     },
     "output_type": "display_data"
    }
   ],
   "source": [
    "select_model(data_np, 10)"
   ]
  },
  {
   "cell_type": "code",
   "execution_count": 32,
   "id": "advance-plaza",
   "metadata": {},
   "outputs": [],
   "source": [
    "P = 2"
   ]
  },
  {
   "cell_type": "code",
   "execution_count": 47,
   "id": "coastal-syracuse",
   "metadata": {},
   "outputs": [],
   "source": [
    "def plot_model_2_upper(theta, start, end, step, ax=None):\n",
    "    count = math.floor((end - start) / step)\n",
    "    df = pd.DataFrame(index=range(0, count), columns=['x1', 'x2'])\n",
    "    \n",
    "    for i in range(0, count):\n",
    "        x1 = start + step * i\n",
    "        a = theta[8,0]*math.pow(x1,2) + theta[7,0]*x1 + theta[6,0]\n",
    "        b = theta[5,0]*math.pow(x1,2) + theta[4,0]*x1 + theta[2,0]\n",
    "        c = theta[3,0]*math.pow(x1,2) + theta[1,0]*x1 + theta[0,0]\n",
    "        d = math.pow(b, 2) - 4 * a * c\n",
    "        if d >= 0:\n",
    "            x2 = (-b + math.sqrt(d)) / (2 * a)\n",
    "            df.loc[i] = [x1, x2]\n",
    "        \n",
    "    return df.plot.line(x='x1', y='x2', c='g', ax=ax)\n",
    "\n",
    "\n",
    "def plot_model_2_lower(theta, start, end, step, ax=None):\n",
    "    count = math.floor((end - start) / step)\n",
    "    df = pd.DataFrame(index=range(0, count), columns=['x1', 'x2'])\n",
    "    \n",
    "    for i in range(0, count):\n",
    "        x1 = start + step * i\n",
    "        a = theta[8,0]*math.pow(x1,2) + theta[7,0]*x1 + theta[6,0]\n",
    "        b = theta[5,0]*math.pow(x1,2) + theta[4,0]*x1 + theta[2,0]\n",
    "        c = theta[3,0]*math.pow(x1,2) + theta[1,0]*x1 + theta[0,0]\n",
    "        d = math.pow(b, 2) - 4 * a * c\n",
    "        if d >= 0:\n",
    "            x2 = (-b - math.sqrt(d)) / (2 * a)\n",
    "            df.loc[i] = [x1, x2]\n",
    "        \n",
    "    return df.plot.line(x='x1', y='x2', c='g', ax=ax)\n",
    "\n",
    "\n",
    "def plot_model_2(data, data_np):\n",
    "    m = data_np.shape[0]\n",
    "    X, y = extract(data_np, 0, m)\n",
    "    #X = expand(X, 2)\n",
    "    theta = solve(X, y, 0)\n",
    "    x1_min = data['x1'].min()\n",
    "    x1_max = data['x1'].max()\n",
    "\n",
    "    yh = 1 / (1 + np.exp(-np.matmul(X, theta)))\n",
    "    print(yh)\n",
    "    data['y^'] = yh\n",
    "    \n",
    "    #ax = plot_model_2_upper(theta, x1_min, x1_max, 1)\n",
    "    #ax = plot_model_2_lower(theta, x1_min, x1_max, 1, ax=ax)\n",
    "    ax = None\n",
    "    ax = data[data['y^'] >= 0.5].plot.scatter(x='x1', y='x2', c='red', ax=ax)\n",
    "    ax = data[data['y^'] < 0.5].plot.scatter(x='x1', y='x2', c='blue', ax=ax)\n",
    "    return ax\n",
    "    \n",
    "def plot_model(data, data_np, P):\n",
    "    if P == 2:\n",
    "        ax = plot_model_2(data, data_np)\n",
    "        #ax = data[data['y'] == 0].plot.scatter(x='x1', y='x2', c='red', ax=ax)\n",
    "        #data[data['y'] == 1].plot.scatter(x='x1', y='x2', c='blue', ax=ax)"
   ]
  },
  {
   "cell_type": "code",
   "execution_count": 48,
   "id": "russian-combining",
   "metadata": {},
   "outputs": [
    {
     "name": "stdout",
     "output_type": "stream",
     "text": [
      "[[0.86731615]\n",
      " [0.77603385]\n",
      " [0.78423002]\n",
      " [0.67553658]\n",
      " [0.71602005]\n",
      " [0.713273  ]\n",
      " [0.75689105]\n",
      " [0.82021724]\n",
      " [0.78486319]\n",
      " [0.80530619]\n",
      " [0.80304202]\n",
      " [0.74290819]\n",
      " [0.80009126]\n",
      " [0.84276494]\n",
      " [0.86922716]\n",
      " [0.81811024]\n",
      " [0.78501232]\n",
      " [0.86046984]\n",
      " [0.84718147]\n",
      " [0.78639114]\n",
      " [0.83337691]\n",
      " [0.84785963]\n",
      " [0.69380928]\n",
      " [0.80610337]\n",
      " [0.7904079 ]\n",
      " [0.81858625]\n",
      " [0.74121819]\n",
      " [0.77545962]\n",
      " [0.7448846 ]\n",
      " [0.71387395]\n",
      " [0.79966291]\n",
      " [0.82820334]\n",
      " [0.72905076]\n",
      " [0.81059053]\n",
      " [0.85451878]\n",
      " [0.85417029]\n",
      " [0.76030134]\n",
      " [0.84853828]\n",
      " [0.85521287]\n",
      " [0.7018804 ]\n",
      " [0.75213946]\n",
      " [0.8710832 ]\n",
      " [0.77431127]\n",
      " [0.73066327]\n",
      " [0.68379364]\n",
      " [0.74064127]\n",
      " [0.78563671]\n",
      " [0.75629095]\n",
      " [0.81097873]\n",
      " [0.74526277]\n",
      " [0.8230634 ]\n",
      " [0.8328621 ]\n",
      " [0.76754418]\n",
      " [0.65301994]\n",
      " [0.73415905]\n",
      " [0.73224118]\n",
      " [0.6512798 ]\n",
      " [0.83274607]\n",
      " [0.66071071]\n",
      " [0.82092368]\n",
      " [0.81373437]\n",
      " [0.74004638]\n",
      " [0.78187885]\n",
      " [0.67245896]\n",
      " [0.82009293]\n",
      " [0.80663256]\n",
      " [0.83153009]\n",
      " [0.76943564]\n",
      " [0.78999605]\n",
      " [0.71186831]\n",
      " [0.77156034]\n",
      " [0.85834036]\n",
      " [0.81592568]\n",
      " [0.73008961]\n",
      " [0.86586166]\n",
      " [0.82485919]\n",
      " [0.68087047]\n",
      " [0.70139097]\n",
      " [0.87031444]\n",
      " [0.8354218 ]\n",
      " [0.77888676]\n",
      " [0.68618619]\n",
      " [0.6837813 ]\n",
      " [0.82682599]\n",
      " [0.8081363 ]\n",
      " [0.82915592]\n",
      " [0.72564751]\n",
      " [0.69030354]\n",
      " [0.81867765]\n",
      " [0.7160012 ]\n",
      " [0.72953162]\n",
      " [0.66698967]\n",
      " [0.82332609]\n",
      " [0.84386609]\n",
      " [0.85793318]\n",
      " [0.81863439]\n",
      " [0.83009875]\n",
      " [0.74052549]\n",
      " [0.78195432]\n",
      " [0.76750452]]\n"
     ]
    },
    {
     "data": {
      "image/png": "[encoded data removed]",
      "text/plain": [
       "<Figure size 432x288 with 1 Axes>"
      ]
     },
     "metadata": {
      "needs_background": "light"
     },
     "output_type": "display_data"
    }
   ],
   "source": [
    "plot_model(data, data_np, P)"
   ]
  },
  {
   "cell_type": "code",
   "execution_count": null,
   "id": "square-principle",
   "metadata": {},
   "outputs": [],
   "source": []
  },
  {
   "cell_type": "code",
   "execution_count": null,
   "id": "above-force",
   "metadata": {},
   "outputs": [],
   "source": []
  }
 ],
 "metadata": {
  "kernelspec": {
   "display_name": "Python 3",
   "language": "python",
   "name": "python3"
  },
  "language_info": {
   "codemirror_mode": {
    "name": "ipython",
    "version": 3
   },
   "file_extension": ".py",
   "mimetype": "text/x-python",
   "name": "python",
   "nbconvert_exporter": "python",
   "pygments_lexer": "ipython3",
   "version": "3.9.2"
  }
 },
 "nbformat": 4,
 "nbformat_minor": 5
}

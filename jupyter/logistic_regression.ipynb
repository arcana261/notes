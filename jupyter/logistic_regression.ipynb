{
 "cells": [
  {
   "cell_type": "code",
   "execution_count": 1,
   "id": "indian-inquiry",
   "metadata": {},
   "outputs": [],
   "source": [
    "import pandas as pd\n",
    "import numpy as np\n",
    "import matplotlib.pyplot as plt\n",
    "import math\n",
    "from scipy import optimize\n",
    "from scipy.special import expit"
   ]
  },
  {
   "cell_type": "code",
   "execution_count": 2,
   "id": "naked-desktop",
   "metadata": {},
   "outputs": [
    {
     "name": "stdout",
     "output_type": "stream",
     "text": [
      "                 x1            x2           y\n",
      "count  1.000000e+02  1.000000e+02  100.000000\n",
      "mean  -7.910339e-17 -3.885781e-16    0.600000\n",
      "std    1.000000e+00  1.000000e+00    0.492366\n",
      "min   -1.828813e+00 -1.916760e+00    0.000000\n",
      "25%   -7.567373e-01 -9.709414e-01    0.000000\n",
      "50%    7.136900e-02  7.858797e-02    1.000000\n",
      "75%    7.486940e-01  7.070312e-01    1.000000\n",
      "max    1.756768e+00  1.756865e+00    1.000000\n"
     ]
    },
    {
     "data": {
      "text/html": [
       "<div>\n",
       "<style scoped>\n",
       "    .dataframe tbody tr th:only-of-type {\n",
       "        vertical-align: middle;\n",
       "    }\n",
       "\n",
       "    .dataframe tbody tr th {\n",
       "        vertical-align: top;\n",
       "    }\n",
       "\n",
       "    .dataframe thead th {\n",
       "        text-align: right;\n",
       "    }\n",
       "</style>\n",
       "<table border=\"1\" class=\"dataframe\">\n",
       "  <thead>\n",
       "    <tr style=\"text-align: right;\">\n",
       "      <th></th>\n",
       "      <th>x1</th>\n",
       "      <th>x2</th>\n",
       "      <th>y</th>\n",
       "    </tr>\n",
       "  </thead>\n",
       "  <tbody>\n",
       "    <tr>\n",
       "      <th>0</th>\n",
       "      <td>0.454739</td>\n",
       "      <td>1.002172</td>\n",
       "      <td>1</td>\n",
       "    </tr>\n",
       "    <tr>\n",
       "      <th>1</th>\n",
       "      <td>-1.341640</td>\n",
       "      <td>0.528167</td>\n",
       "      <td>0</td>\n",
       "    </tr>\n",
       "    <tr>\n",
       "      <th>2</th>\n",
       "      <td>-0.075407</td>\n",
       "      <td>0.790305</td>\n",
       "      <td>1</td>\n",
       "    </tr>\n",
       "    <tr>\n",
       "      <th>3</th>\n",
       "      <td>-0.851656</td>\n",
       "      <td>-0.771617</td>\n",
       "      <td>0</td>\n",
       "    </tr>\n",
       "    <tr>\n",
       "      <th>4</th>\n",
       "      <td>0.501142</td>\n",
       "      <td>1.051400</td>\n",
       "      <td>1</td>\n",
       "    </tr>\n",
       "  </tbody>\n",
       "</table>\n",
       "</div>"
      ],
      "text/plain": [
       "         x1        x2  y\n",
       "0  0.454739  1.002172  1\n",
       "1 -1.341640  0.528167  0\n",
       "2 -0.075407  0.790305  1\n",
       "3 -0.851656 -0.771617  0\n",
       "4  0.501142  1.051400  1"
      ]
     },
     "execution_count": 2,
     "metadata": {},
     "output_type": "execute_result"
    }
   ],
   "source": [
    "data = pd \\\n",
    "    .read_csv('data/logistic_regression.txt', names=['x1', 'x2', 'y']) \\\n",
    "    .sample(frac=1)\n",
    "data.reset_index(inplace=True, drop=True)\n",
    "\n",
    "for column in data.columns:\n",
    "    if column == 'y':\n",
    "        continue\n",
    "    data[column] = (data[column] - data[column].mean()) / data[column].std()\n",
    "\n",
    "print(data.describe())\n",
    "data.head()"
   ]
  },
  {
   "cell_type": "code",
   "execution_count": 3,
   "id": "ambient-uncle",
   "metadata": {},
   "outputs": [],
   "source": [
    "def draw_train_set(data):\n",
    "    ax = data[data['y'] == 0].plot.scatter(x='x1', y='x2', c='red')\n",
    "    data[data['y'] == 1].plot.scatter(x='x1', y='x2', c='blue', ax=ax)"
   ]
  },
  {
   "cell_type": "code",
   "execution_count": 4,
   "id": "annual-connecticut",
   "metadata": {},
   "outputs": [
    {
     "data": {
      "image/png": "[encoded data removed]",
      "text/plain": [
       "<Figure size 432x288 with 1 Axes>"
      ]
     },
     "metadata": {
      "needs_background": "light"
     },
     "output_type": "display_data"
    }
   ],
   "source": [
    "draw_train_set(data)"
   ]
  },
  {
   "cell_type": "code",
   "execution_count": 5,
   "id": "fossil-causing",
   "metadata": {},
   "outputs": [],
   "source": [
    "def extract(data, start, end):\n",
    "    m = data.shape[0]\n",
    "    view = data[start:(end - 1)]\n",
    "    \n",
    "    dropped_view = view\n",
    "    if 'y' in data.columns:\n",
    "        dropped_view = dropped_view.drop('y', axis=1)\n",
    "    if 'y^' in data.columns:\n",
    "        dropped_view = dropped_view.drop('y^', axis=1)\n",
    "    X = dropped_view.to_numpy()\n",
    "    y = None\n",
    "    if 'y' in data.columns:\n",
    "        y = view['y'].to_numpy().reshape(view.shape[0], 1)\n",
    "    return X, y\n",
    "\n",
    "def expand(data, p, min_p=0):\n",
    "    p = p + 1\n",
    "    m = data.shape[0]\n",
    "    n = data.shape[1]\n",
    "    result = data.copy()\n",
    "    \n",
    "    pv = [0] * n\n",
    "    while True:\n",
    "        r = 1\n",
    "        sumof = 0\n",
    "        for i in range(0, n):\n",
    "            if data.columns[i] in ['y', 'y^']:\n",
    "                continue\n",
    "            pv[i] = pv[i] + r\n",
    "            r = pv[i] // p\n",
    "            pv[i] = pv[i] % p\n",
    "            if pv[i] < min_p:\n",
    "                sumof = 0\n",
    "                break\n",
    "            sumof = sumof + pv[i]\n",
    "        if r > 0:\n",
    "            break\n",
    "        if sumof < 2:\n",
    "            continue\n",
    "        toadd = None\n",
    "        name = ''\n",
    "        for i in range(0, n):\n",
    "            if pv[i] < 1 or data.columns[i] in ['y', 'y^']:\n",
    "                continue\n",
    "            name = name + data.columns[i]\n",
    "            if pv[i] > 1:\n",
    "                name = name + '^' + str(pv[i])\n",
    "            temp = data[data.columns[i]].pow(pv[i])\n",
    "            if toadd is None:\n",
    "                toadd = temp\n",
    "            else:\n",
    "                toadd = toadd.add(temp)\n",
    "        \n",
    "        result[name] = toadd\n",
    "        \n",
    "    result.insert(0, 'x0', [1] * m)\n",
    "        \n",
    "    return result\n",
    "    \n",
    "\n",
    "def cost_fn(theta, X, y, lamb):\n",
    "    # Note: np.multiply performs element-wise multiplication instead of matrix multiplication\n",
    "    # Note: np.matmul performs matrix multiplication\n",
    "    # Note: expit is the sigmoid function\n",
    "    m = X.shape[0]\n",
    "    n = X.shape[1]\n",
    "    Theta = theta.reshape(n, 1)\n",
    "    \n",
    "    h = expit(np.matmul(X, Theta))\n",
    "    \n",
    "    result = (np.matmul(y.T, np.log(h)) + np.matmul(1 - y.T, np.log(1 - h))) / (-m)\n",
    "    result = result[0,0]\n",
    "    result = result + (lamb / (2 * m)) * (np.sum(np.multiply(Theta, Theta)) - math.pow(Theta[0,0], 2))\n",
    "    \n",
    "    return result\n",
    "\n",
    "def gradient_fn(theta, X, y, lamb):\n",
    "    m = X.shape[0]\n",
    "    n = X.shape[1]\n",
    "    Theta = theta.reshape(n, 1)\n",
    "    \n",
    "    h = expit(np.matmul(X, Theta))\n",
    "    result = (np.matmul(X.T, (h - y)) / m)\n",
    "    \n",
    "    lamb_vector = np.ones((n, 1))\n",
    "    lamb_vector[0, 0] = 0\n",
    "    \n",
    "    result = result + (lamb / m) * np.multiply(lamb_vector, Theta)\n",
    "    \n",
    "    return result.reshape(n)\n",
    "\n",
    "def solve(X, y, lamb):\n",
    "    n = X.shape[1]\n",
    "    result = optimize.minimize(\n",
    "        lambda theta: cost_fn(theta, X, y, lamb),\n",
    "        jac=lambda theta: gradient_fn(theta, X, y, lamb),\n",
    "        x0=np.array([0] * n),\n",
    "        method='BFGS')\n",
    "    return result.x.reshape(n, 1)\n",
    "\n",
    "def predict(X, theta):\n",
    "    return (expit(np.matmul(X, theta)) >= 0.5).reshape(X.shape[0]).astype(int)\n",
    "\n",
    "def accuracy(X, y, theta):\n",
    "    return np.sum((y.reshape(X.shape[0]) == predict(X, theta)).astype(int)) / X.shape[0]\n",
    "\n",
    "def f1score(X, y, theta):\n",
    "    yh = predict(X, theta)\n",
    "    y = y.reshape(X.shape[0])\n",
    "    tp = np.sum(np.logical_and(yh == 1, y == 1).astype(int))\n",
    "    fp = np.sum(np.logical_and(yh == 1, y == 0).astype(int))\n",
    "    fn = np.sum(np.logical_and(yh == 0, y == 1).astype(int))\n",
    "    return tp / (tp + ((fp + fn) / 2))\n",
    "\n",
    "def select_model(data, max_p):\n",
    "    m = data.shape[0]\n",
    "\n",
    "    df = pd.DataFrame(index=range(0, max_p + 1), columns=['power',\n",
    "                                                          'cost', 'accuracy', 'f1',\n",
    "                                                          'cost(minp=p)', 'accuracy(minp=p)', 'f1(minp=p)'])\n",
    "    for p in range(0, max_p + 1):\n",
    "        expanded = expand(data, p)\n",
    "        Xtrain, ytrain = extract(expanded, 0, math.ceil(m*0.8))\n",
    "        Xcv, ycv = extract(expanded, math.ceil(m*0.8), m + 1)\n",
    "        theta = solve(Xtrain, ytrain, 0)\n",
    "        cost = cost_fn(theta, Xcv, ycv, 0)\n",
    "        acc = accuracy(Xcv, ycv, theta)\n",
    "        f1 = f1score(Xcv, ycv, theta)\n",
    "        \n",
    "        expanded = expand(data, p, p)\n",
    "        Xtrain, ytrain = extract(expanded, 0, math.ceil(m*0.8))\n",
    "        Xcv, ycv = extract(expanded, math.ceil(m*0.8), m + 1)\n",
    "        theta = solve(Xtrain, ytrain, 0)\n",
    "        cost_minp_eq_p = cost_fn(theta, Xcv, ycv, 0)\n",
    "        acc_minp_eq_p = accuracy(Xcv, ycv, theta)\n",
    "        f1_minp_eq_p = f1score(Xcv, ycv, theta)        \n",
    "        \n",
    "        df.loc[p] = [p, cost, acc, f1, cost_minp_eq_p, acc_minp_eq_p, f1_minp_eq_p]\n",
    "    \n",
    "    ax = df.plot.line(x='power', y='cost')\n",
    "    df.plot.line(x='power', y='cost(minp=p)', ax=ax)\n",
    "    \n",
    "    ax = df.plot.line(x='power', y='accuracy')\n",
    "    df.plot.line(x='power', y='accuracy(minp=p)', ax=ax)\n",
    "    \n",
    "    ax = df.plot.line(x='power', y='f1')\n",
    "    df.plot.line(x='power', y='f1(minp=p)', ax=ax)\n",
    "    \n",
    "    df.sort_values(by=['cost'], inplace=True)\n",
    "    return df\n",
    "    "
   ]
  },
  {
   "cell_type": "code",
   "execution_count": 6,
   "id": "automated-pierre",
   "metadata": {},
   "outputs": [
    {
     "name": "stderr",
     "output_type": "stream",
     "text": [
      "<ipython-input-5-be07fd130d69>:71: RuntimeWarning: divide by zero encountered in log\n",
      "  result = (np.matmul(y.T, np.log(h)) + np.matmul(1 - y.T, np.log(1 - h))) / (-m)\n",
      "<ipython-input-5-be07fd130d69>:71: RuntimeWarning: invalid value encountered in matmul\n",
      "  result = (np.matmul(y.T, np.log(h)) + np.matmul(1 - y.T, np.log(1 - h))) / (-m)\n",
      "<ipython-input-5-be07fd130d69>:71: RuntimeWarning: divide by zero encountered in log\n",
      "  result = (np.matmul(y.T, np.log(h)) + np.matmul(1 - y.T, np.log(1 - h))) / (-m)\n",
      "<ipython-input-5-be07fd130d69>:71: RuntimeWarning: invalid value encountered in matmul\n",
      "  result = (np.matmul(y.T, np.log(h)) + np.matmul(1 - y.T, np.log(1 - h))) / (-m)\n",
      "<ipython-input-5-be07fd130d69>:71: RuntimeWarning: divide by zero encountered in log\n",
      "  result = (np.matmul(y.T, np.log(h)) + np.matmul(1 - y.T, np.log(1 - h))) / (-m)\n",
      "<ipython-input-5-be07fd130d69>:71: RuntimeWarning: invalid value encountered in matmul\n",
      "  result = (np.matmul(y.T, np.log(h)) + np.matmul(1 - y.T, np.log(1 - h))) / (-m)\n",
      "<ipython-input-5-be07fd130d69>:71: RuntimeWarning: divide by zero encountered in log\n",
      "  result = (np.matmul(y.T, np.log(h)) + np.matmul(1 - y.T, np.log(1 - h))) / (-m)\n",
      "<ipython-input-5-be07fd130d69>:71: RuntimeWarning: invalid value encountered in matmul\n",
      "  result = (np.matmul(y.T, np.log(h)) + np.matmul(1 - y.T, np.log(1 - h))) / (-m)\n",
      "<ipython-input-5-be07fd130d69>:71: RuntimeWarning: divide by zero encountered in log\n",
      "  result = (np.matmul(y.T, np.log(h)) + np.matmul(1 - y.T, np.log(1 - h))) / (-m)\n",
      "<ipython-input-5-be07fd130d69>:71: RuntimeWarning: invalid value encountered in matmul\n",
      "  result = (np.matmul(y.T, np.log(h)) + np.matmul(1 - y.T, np.log(1 - h))) / (-m)\n",
      "<ipython-input-5-be07fd130d69>:71: RuntimeWarning: divide by zero encountered in log\n",
      "  result = (np.matmul(y.T, np.log(h)) + np.matmul(1 - y.T, np.log(1 - h))) / (-m)\n",
      "<ipython-input-5-be07fd130d69>:71: RuntimeWarning: invalid value encountered in matmul\n",
      "  result = (np.matmul(y.T, np.log(h)) + np.matmul(1 - y.T, np.log(1 - h))) / (-m)\n",
      "<ipython-input-5-be07fd130d69>:71: RuntimeWarning: divide by zero encountered in log\n",
      "  result = (np.matmul(y.T, np.log(h)) + np.matmul(1 - y.T, np.log(1 - h))) / (-m)\n",
      "<ipython-input-5-be07fd130d69>:71: RuntimeWarning: invalid value encountered in matmul\n",
      "  result = (np.matmul(y.T, np.log(h)) + np.matmul(1 - y.T, np.log(1 - h))) / (-m)\n",
      "<ipython-input-5-be07fd130d69>:71: RuntimeWarning: divide by zero encountered in log\n",
      "  result = (np.matmul(y.T, np.log(h)) + np.matmul(1 - y.T, np.log(1 - h))) / (-m)\n",
      "<ipython-input-5-be07fd130d69>:71: RuntimeWarning: invalid value encountered in matmul\n",
      "  result = (np.matmul(y.T, np.log(h)) + np.matmul(1 - y.T, np.log(1 - h))) / (-m)\n",
      "<ipython-input-5-be07fd130d69>:71: RuntimeWarning: divide by zero encountered in log\n",
      "  result = (np.matmul(y.T, np.log(h)) + np.matmul(1 - y.T, np.log(1 - h))) / (-m)\n",
      "<ipython-input-5-be07fd130d69>:71: RuntimeWarning: invalid value encountered in matmul\n",
      "  result = (np.matmul(y.T, np.log(h)) + np.matmul(1 - y.T, np.log(1 - h))) / (-m)\n",
      "<ipython-input-5-be07fd130d69>:71: RuntimeWarning: divide by zero encountered in log\n",
      "  result = (np.matmul(y.T, np.log(h)) + np.matmul(1 - y.T, np.log(1 - h))) / (-m)\n",
      "<ipython-input-5-be07fd130d69>:71: RuntimeWarning: invalid value encountered in matmul\n",
      "  result = (np.matmul(y.T, np.log(h)) + np.matmul(1 - y.T, np.log(1 - h))) / (-m)\n",
      "<ipython-input-5-be07fd130d69>:71: RuntimeWarning: divide by zero encountered in log\n",
      "  result = (np.matmul(y.T, np.log(h)) + np.matmul(1 - y.T, np.log(1 - h))) / (-m)\n",
      "<ipython-input-5-be07fd130d69>:71: RuntimeWarning: invalid value encountered in matmul\n",
      "  result = (np.matmul(y.T, np.log(h)) + np.matmul(1 - y.T, np.log(1 - h))) / (-m)\n",
      "<ipython-input-5-be07fd130d69>:71: RuntimeWarning: divide by zero encountered in log\n",
      "  result = (np.matmul(y.T, np.log(h)) + np.matmul(1 - y.T, np.log(1 - h))) / (-m)\n",
      "<ipython-input-5-be07fd130d69>:71: RuntimeWarning: invalid value encountered in matmul\n",
      "  result = (np.matmul(y.T, np.log(h)) + np.matmul(1 - y.T, np.log(1 - h))) / (-m)\n",
      "<ipython-input-5-be07fd130d69>:71: RuntimeWarning: divide by zero encountered in log\n",
      "  result = (np.matmul(y.T, np.log(h)) + np.matmul(1 - y.T, np.log(1 - h))) / (-m)\n",
      "<ipython-input-5-be07fd130d69>:71: RuntimeWarning: invalid value encountered in matmul\n",
      "  result = (np.matmul(y.T, np.log(h)) + np.matmul(1 - y.T, np.log(1 - h))) / (-m)\n",
      "<ipython-input-5-be07fd130d69>:71: RuntimeWarning: divide by zero encountered in log\n",
      "  result = (np.matmul(y.T, np.log(h)) + np.matmul(1 - y.T, np.log(1 - h))) / (-m)\n",
      "<ipython-input-5-be07fd130d69>:71: RuntimeWarning: invalid value encountered in matmul\n",
      "  result = (np.matmul(y.T, np.log(h)) + np.matmul(1 - y.T, np.log(1 - h))) / (-m)\n",
      "<ipython-input-5-be07fd130d69>:71: RuntimeWarning: divide by zero encountered in log\n",
      "  result = (np.matmul(y.T, np.log(h)) + np.matmul(1 - y.T, np.log(1 - h))) / (-m)\n",
      "<ipython-input-5-be07fd130d69>:71: RuntimeWarning: invalid value encountered in matmul\n",
      "  result = (np.matmul(y.T, np.log(h)) + np.matmul(1 - y.T, np.log(1 - h))) / (-m)\n",
      "<ipython-input-5-be07fd130d69>:71: RuntimeWarning: divide by zero encountered in log\n",
      "  result = (np.matmul(y.T, np.log(h)) + np.matmul(1 - y.T, np.log(1 - h))) / (-m)\n",
      "<ipython-input-5-be07fd130d69>:71: RuntimeWarning: invalid value encountered in matmul\n",
      "  result = (np.matmul(y.T, np.log(h)) + np.matmul(1 - y.T, np.log(1 - h))) / (-m)\n",
      "<ipython-input-5-be07fd130d69>:71: RuntimeWarning: divide by zero encountered in log\n",
      "  result = (np.matmul(y.T, np.log(h)) + np.matmul(1 - y.T, np.log(1 - h))) / (-m)\n",
      "<ipython-input-5-be07fd130d69>:71: RuntimeWarning: invalid value encountered in matmul\n",
      "  result = (np.matmul(y.T, np.log(h)) + np.matmul(1 - y.T, np.log(1 - h))) / (-m)\n",
      "<ipython-input-5-be07fd130d69>:71: RuntimeWarning: divide by zero encountered in log\n",
      "  result = (np.matmul(y.T, np.log(h)) + np.matmul(1 - y.T, np.log(1 - h))) / (-m)\n",
      "<ipython-input-5-be07fd130d69>:71: RuntimeWarning: invalid value encountered in matmul\n",
      "  result = (np.matmul(y.T, np.log(h)) + np.matmul(1 - y.T, np.log(1 - h))) / (-m)\n"
     ]
    },
    {
     "data": {
      "text/html": [
       "<div>\n",
       "<style scoped>\n",
       "    .dataframe tbody tr th:only-of-type {\n",
       "        vertical-align: middle;\n",
       "    }\n",
       "\n",
       "    .dataframe tbody tr th {\n",
       "        vertical-align: top;\n",
       "    }\n",
       "\n",
       "    .dataframe thead th {\n",
       "        text-align: right;\n",
       "    }\n",
       "</style>\n",
       "<table border=\"1\" class=\"dataframe\">\n",
       "  <thead>\n",
       "    <tr style=\"text-align: right;\">\n",
       "      <th></th>\n",
       "      <th>power</th>\n",
       "      <th>cost</th>\n",
       "      <th>accuracy</th>\n",
       "      <th>f1</th>\n",
       "      <th>cost(minp=p)</th>\n",
       "      <th>accuracy(minp=p)</th>\n",
       "      <th>f1(minp=p)</th>\n",
       "    </tr>\n",
       "  </thead>\n",
       "  <tbody>\n",
       "    <tr>\n",
       "      <th>2</th>\n",
       "      <td>2</td>\n",
       "      <td>0.084683</td>\n",
       "      <td>0.95</td>\n",
       "      <td>0.941176</td>\n",
       "      <td>0.196746</td>\n",
       "      <td>0.85</td>\n",
       "      <td>0.842105</td>\n",
       "    </tr>\n",
       "    <tr>\n",
       "      <th>5</th>\n",
       "      <td>5</td>\n",
       "      <td>0.163753</td>\n",
       "      <td>0.95</td>\n",
       "      <td>0.941176</td>\n",
       "      <td>0.196746</td>\n",
       "      <td>0.85</td>\n",
       "      <td>0.842105</td>\n",
       "    </tr>\n",
       "    <tr>\n",
       "      <th>7</th>\n",
       "      <td>7</td>\n",
       "      <td>0.166304</td>\n",
       "      <td>0.95</td>\n",
       "      <td>0.941176</td>\n",
       "      <td>0.196746</td>\n",
       "      <td>0.85</td>\n",
       "      <td>0.842105</td>\n",
       "    </tr>\n",
       "    <tr>\n",
       "      <th>6</th>\n",
       "      <td>6</td>\n",
       "      <td>0.189854</td>\n",
       "      <td>0.95</td>\n",
       "      <td>0.941176</td>\n",
       "      <td>0.196746</td>\n",
       "      <td>0.85</td>\n",
       "      <td>0.842105</td>\n",
       "    </tr>\n",
       "    <tr>\n",
       "      <th>1</th>\n",
       "      <td>1</td>\n",
       "      <td>0.196743</td>\n",
       "      <td>0.85</td>\n",
       "      <td>0.842105</td>\n",
       "      <td>0.196746</td>\n",
       "      <td>0.85</td>\n",
       "      <td>0.842105</td>\n",
       "    </tr>\n",
       "    <tr>\n",
       "      <th>0</th>\n",
       "      <td>0</td>\n",
       "      <td>0.196746</td>\n",
       "      <td>0.85</td>\n",
       "      <td>0.842105</td>\n",
       "      <td>0.196746</td>\n",
       "      <td>0.85</td>\n",
       "      <td>0.842105</td>\n",
       "    </tr>\n",
       "    <tr>\n",
       "      <th>9</th>\n",
       "      <td>9</td>\n",
       "      <td>0.252572</td>\n",
       "      <td>0.95</td>\n",
       "      <td>0.941176</td>\n",
       "      <td>0.196746</td>\n",
       "      <td>0.85</td>\n",
       "      <td>0.842105</td>\n",
       "    </tr>\n",
       "    <tr>\n",
       "      <th>10</th>\n",
       "      <td>10</td>\n",
       "      <td>0.629281</td>\n",
       "      <td>0.85</td>\n",
       "      <td>0.842105</td>\n",
       "      <td>0.196746</td>\n",
       "      <td>0.85</td>\n",
       "      <td>0.842105</td>\n",
       "    </tr>\n",
       "    <tr>\n",
       "      <th>3</th>\n",
       "      <td>3</td>\n",
       "      <td>NaN</td>\n",
       "      <td>1.0</td>\n",
       "      <td>1.0</td>\n",
       "      <td>0.196746</td>\n",
       "      <td>0.85</td>\n",
       "      <td>0.842105</td>\n",
       "    </tr>\n",
       "    <tr>\n",
       "      <th>4</th>\n",
       "      <td>4</td>\n",
       "      <td>NaN</td>\n",
       "      <td>0.95</td>\n",
       "      <td>0.941176</td>\n",
       "      <td>0.196746</td>\n",
       "      <td>0.85</td>\n",
       "      <td>0.842105</td>\n",
       "    </tr>\n",
       "    <tr>\n",
       "      <th>8</th>\n",
       "      <td>8</td>\n",
       "      <td>NaN</td>\n",
       "      <td>0.9</td>\n",
       "      <td>0.888889</td>\n",
       "      <td>0.196746</td>\n",
       "      <td>0.85</td>\n",
       "      <td>0.842105</td>\n",
       "    </tr>\n",
       "  </tbody>\n",
       "</table>\n",
       "</div>"
      ],
      "text/plain": [
       "   power      cost accuracy        f1 cost(minp=p) accuracy(minp=p) f1(minp=p)\n",
       "2      2  0.084683     0.95  0.941176     0.196746             0.85   0.842105\n",
       "5      5  0.163753     0.95  0.941176     0.196746             0.85   0.842105\n",
       "7      7  0.166304     0.95  0.941176     0.196746             0.85   0.842105\n",
       "6      6  0.189854     0.95  0.941176     0.196746             0.85   0.842105\n",
       "1      1  0.196743     0.85  0.842105     0.196746             0.85   0.842105\n",
       "0      0  0.196746     0.85  0.842105     0.196746             0.85   0.842105\n",
       "9      9  0.252572     0.95  0.941176     0.196746             0.85   0.842105\n",
       "10    10  0.629281     0.85  0.842105     0.196746             0.85   0.842105\n",
       "3      3       NaN      1.0       1.0     0.196746             0.85   0.842105\n",
       "4      4       NaN     0.95  0.941176     0.196746             0.85   0.842105\n",
       "8      8       NaN      0.9  0.888889     0.196746             0.85   0.842105"
      ]
     },
     "execution_count": 6,
     "metadata": {},
     "output_type": "execute_result"
    },
    {
     "data": {
      "image/png": "[encoded data removed]",
      "text/plain": [
       "<Figure size 432x288 with 1 Axes>"
      ]
     },
     "metadata": {
      "needs_background": "light"
     },
     "output_type": "display_data"
    },
    {
     "data": {
      "image/png": "[encoded data removed]",
      "text/plain": [
       "<Figure size 432x288 with 1 Axes>"
      ]
     },
     "metadata": {
      "needs_background": "light"
     },
     "output_type": "display_data"
    },
    {
     "data": {
      "image/png": "[encoded data removed]",
      "text/plain": [
       "<Figure size 432x288 with 1 Axes>"
      ]
     },
     "metadata": {
      "needs_background": "light"
     },
     "output_type": "display_data"
    }
   ],
   "source": [
    "select_model(data, 10)"
   ]
  },
  {
   "cell_type": "code",
   "execution_count": 7,
   "id": "matched-distinction",
   "metadata": {},
   "outputs": [
    {
     "name": "stdout",
     "output_type": "stream",
     "text": [
      "Index(['x0', 'x1', 'x2', 'y', 'x1^2', 'x1x2', 'x1^2x2', 'x2^2', 'x1x2^2',\n",
      "       'x1^2x2^2'],\n",
      "      dtype='object')\n"
     ]
    },
    {
     "name": "stderr",
     "output_type": "stream",
     "text": [
      "<ipython-input-5-be07fd130d69>:71: RuntimeWarning: divide by zero encountered in log\n",
      "  result = (np.matmul(y.T, np.log(h)) + np.matmul(1 - y.T, np.log(1 - h))) / (-m)\n",
      "<ipython-input-5-be07fd130d69>:71: RuntimeWarning: invalid value encountered in matmul\n",
      "  result = (np.matmul(y.T, np.log(h)) + np.matmul(1 - y.T, np.log(1 - h))) / (-m)\n",
      "<ipython-input-5-be07fd130d69>:71: RuntimeWarning: divide by zero encountered in log\n",
      "  result = (np.matmul(y.T, np.log(h)) + np.matmul(1 - y.T, np.log(1 - h))) / (-m)\n",
      "<ipython-input-5-be07fd130d69>:71: RuntimeWarning: invalid value encountered in matmul\n",
      "  result = (np.matmul(y.T, np.log(h)) + np.matmul(1 - y.T, np.log(1 - h))) / (-m)\n"
     ]
    },
    {
     "data": {
      "text/plain": [
       "array([[10.99806814],\n",
       "       [ 4.09906074],\n",
       "       [ 4.35988893],\n",
       "       [-2.19265142],\n",
       "       [ 8.45894967],\n",
       "       [ 2.16723751],\n",
       "       [-1.31700181],\n",
       "       [ 2.78205894],\n",
       "       [-3.50965323]])"
      ]
     },
     "execution_count": 7,
     "metadata": {},
     "output_type": "execute_result"
    }
   ],
   "source": [
    "P = 2\n",
    "expanded = expand(data, P)\n",
    "X, y = extract(expanded, 0, data.shape[0] + 1)\n",
    "Xtrain, ytrain = extract(expanded, 0, math.ceil(data.shape[0] * 0.8))\n",
    "Xcv, ycv = extract(expanded, math.ceil(data.shape[0] * 0.8), data.shape[0] + 1)\n",
    "theta = solve(X, y, 0)\n",
    "print(expanded.columns)\n",
    "del expanded\n",
    "theta"
   ]
  },
  {
   "cell_type": "code",
   "execution_count": 11,
   "id": "fitting-lindsay",
   "metadata": {},
   "outputs": [],
   "source": [
    "def plot_model(data, P, theta, step, sensitivity=0.2):\n",
    "    if P < 2:\n",
    "        xmin = data['x1'].min()\n",
    "        xmax = data['x1'].max()\n",
    "        count = math.ceil((xmax - xmin) / step)\n",
    "        Xplot = pd.DataFrame(index=range(0, count), columns=['x'])\n",
    "        Xplot['x1'] = np.arange(xmin, xmax, step)\n",
    "        if P == 1:\n",
    "            Xplot['x2'] = -(theta[0,0] + theta[1,0] * Xplot['x1']) / (theta[2,0] + theta[3,0] * Xplot['x1'])\n",
    "        elif P == 0:\n",
    "            Xplot['x2'] = -(theta[0,0] + theta[1,0] * Xplot['x1']) / (theta[2,0])\n",
    "        ax = Xplot.plot.line(x='x1', y='x2',c='g')\n",
    "    else:\n",
    "        x1min = data['x1'].min()\n",
    "        x1max = data['x1'].max()\n",
    "        x2min = data['x2'].min()\n",
    "        x2max = data['x2'].max()\n",
    "        x1count = math.ceil((x1max - x1min) / step)\n",
    "        x2count = math.ceil((x2max - x2min) / step)\n",
    "        Xplot = pd.DataFrame(index=range(0, x1count * x2count), columns=['x1', 'x2'])\n",
    "        for i in range(0, x1count):\n",
    "            x1 = x1min + step * i\n",
    "            for j in range(0, x2count):\n",
    "                x2 = x2min + step * j\n",
    "                Xplot.loc[i * x1count + j] = [x1, x2]\n",
    "        Xplot = expand(Xplot, P)\n",
    "        X, _ = extract(Xplot, 0, Xplot.shape[0] + 1)\n",
    "        Xplot['y^'] = (np.abs((np.matmul(X, theta)) - 0) < sensitivity).reshape(X.shape[0]).astype(int)\n",
    "        ax = Xplot[Xplot['y^'] == 1].plot.scatter(x='x1', y='x2', c='green')\n",
    "        \n",
    "    ax = data[data['y'] == 0].plot.scatter(x='x1', y='x2', c='red', ax=ax)\n",
    "    data[data['y'] == 1].plot.scatter(x='x1', y='x2', c='blue', ax=ax)"
   ]
  },
  {
   "cell_type": "code",
   "execution_count": 12,
   "id": "documented-brook",
   "metadata": {},
   "outputs": [
    {
     "name": "stderr",
     "output_type": "stream",
     "text": [
      "<ipython-input-11-846deff93970>:28: RuntimeWarning: invalid value encountered in less\n",
      "  Xplot['y^'] = (np.abs((np.matmul(X, theta)) - 0) < sensitivity).reshape(X.shape[0]).astype(int)\n"
     ]
    },
    {
     "data": {
      "image/png": "[encoded data removed]",
      "text/plain": [
       "<Figure size 432x288 with 1 Axes>"
      ]
     },
     "metadata": {
      "needs_background": "light"
     },
     "output_type": "display_data"
    }
   ],
   "source": [
    "plot_model(data, P, theta, 0.05, sensitivity=1)"
   ]
  },
  {
   "cell_type": "code",
   "execution_count": 13,
   "id": "dominant-phone",
   "metadata": {},
   "outputs": [],
   "source": [
    "def select_lambda(Xtrain, ytrain, Xcv, ycv, begin, end, step):\n",
    "    m = data.shape[0]\n",
    "    \n",
    "    count = math.ceil((end - begin) / step)\n",
    "    df = pd.DataFrame(index=range(0, count), columns=['lambda', 'cost', 'accuracy', 'f1'])\n",
    "    \n",
    "    for i in range(0, count):\n",
    "        lamb = begin + i * step\n",
    "        theta = solve(Xtrain, ytrain, lamb)\n",
    "        cost = cost_fn(theta, Xcv, ycv, 0)\n",
    "        acc = accuracy(Xcv, ycv, theta)\n",
    "        f1 = f1score(Xcv, ycv, theta)\n",
    "        df.loc[i] = [lamb, cost, acc, f1]\n",
    "        \n",
    "    df.plot.line(x='lambda', y='cost')\n",
    "    df.plot.line(x='lambda', y='accuracy')\n",
    "    df.plot.line(x='lambda', y='f1')\n",
    "    df.sort_values(by=['cost'], inplace=True)\n",
    "    print(df)"
   ]
  },
  {
   "cell_type": "code",
   "execution_count": 14,
   "id": "spiritual-central",
   "metadata": {},
   "outputs": [
    {
     "name": "stdout",
     "output_type": "stream",
     "text": [
      "    lambda      cost accuracy        f1\n",
      "0        1  0.124022     0.95  0.941176\n",
      "1        2  0.149835     0.95  0.941176\n",
      "2        3  0.167398     0.95  0.941176\n",
      "3        4  0.181364     0.95  0.941176\n",
      "4        5   0.19325     0.95  0.941176\n",
      "..     ...       ...      ...       ...\n",
      "994    995  0.745111      0.4  0.571429\n",
      "995    996  0.745159      0.4  0.571429\n",
      "996    997  0.745207      0.4  0.571429\n",
      "997    998  0.745254      0.4  0.571429\n",
      "998    999  0.745301      0.4  0.571429\n",
      "\n",
      "[999 rows x 4 columns]\n"
     ]
    },
    {
     "data": {
      "image/png": "[encoded data removed]",
      "text/plain": [
       "<Figure size 432x288 with 1 Axes>"
      ]
     },
     "metadata": {
      "needs_background": "light"
     },
     "output_type": "display_data"
    },
    {
     "data": {
      "image/png": "[encoded data removed]",
      "text/plain": [
       "<Figure size 432x288 with 1 Axes>"
      ]
     },
     "metadata": {
      "needs_background": "light"
     },
     "output_type": "display_data"
    },
    {
     "data": {
      "image/png": "[encoded data removed]",
      "text/plain": [
       "<Figure size 432x288 with 1 Axes>"
      ]
     },
     "metadata": {
      "needs_background": "light"
     },
     "output_type": "display_data"
    }
   ],
   "source": [
    "select_lambda(Xtrain, ytrain, Xcv, ycv, 1, 1000, 1)"
   ]
  },
  {
   "cell_type": "code",
   "execution_count": 15,
   "id": "voluntary-washer",
   "metadata": {},
   "outputs": [
    {
     "data": {
      "text/plain": [
       "array([[ 3.65125582],\n",
       "       [ 1.05866988],\n",
       "       [ 1.1372875 ],\n",
       "       [-0.63801386],\n",
       "       [ 2.19595738],\n",
       "       [ 0.49927364],\n",
       "       [-0.41689667],\n",
       "       [ 0.64177321],\n",
       "       [-1.05491053]])"
      ]
     },
     "execution_count": 15,
     "metadata": {},
     "output_type": "execute_result"
    }
   ],
   "source": [
    "lamb = 1\n",
    "theta = solve(X, y, lamb)\n",
    "data['y^'] = (np.matmul(X, theta) >= 0.5).astype(int).reshape(X.shape[0])\n",
    "theta"
   ]
  },
  {
   "cell_type": "code",
   "execution_count": 16,
   "id": "exotic-gilbert",
   "metadata": {},
   "outputs": [],
   "source": [
    "def draw_learning_curve(data, P, lamb, start=None, end=None):\n",
    "    df = [] # m, cv, train\n",
    "    expanded = expand(data, P)\n",
    "    \n",
    "    start = start or 0\n",
    "    end = end or data.shape[0]\n",
    "    \n",
    "    for m in range(start, end + 1):  \n",
    "        Xtrain, ytrain = extract(expanded, 0, math.ceil(m*0.8))\n",
    "        Xcv, ycv = extract(expanded, math.ceil(m*0.8), m + 1)\n",
    "        if ycv.shape[0] < 1:\n",
    "            continue\n",
    "        \n",
    "        theta = solve(Xtrain, ytrain, lamb)\n",
    "        cost_train = cost_fn(theta, Xtrain, ytrain, 0)\n",
    "        cost_cv = cost_fn(theta, Xcv, ycv, 0)\n",
    "        \n",
    "        df.append([m, cost_cv, cost_train])\n",
    "            \n",
    "    df = pd.DataFrame(df, columns=['m', 'cv', 'train'])\n",
    "    ax = df.plot.line(x='m', y='cv')\n",
    "    df.plot.line(x='m', y='train', ax=ax)\n"
   ]
  },
  {
   "cell_type": "code",
   "execution_count": 17,
   "id": "different-appraisal",
   "metadata": {},
   "outputs": [
    {
     "data": {
      "image/png": "[encoded data removed]",
      "text/plain": [
       "<Figure size 432x288 with 1 Axes>"
      ]
     },
     "metadata": {
      "needs_background": "light"
     },
     "output_type": "display_data"
    }
   ],
   "source": [
    "draw_learning_curve(data, P, lamb, start=20)"
   ]
  },
  {
   "cell_type": "code",
   "execution_count": null,
   "id": "incorrect-husband",
   "metadata": {},
   "outputs": [],
   "source": []
  }
 ],
 "metadata": {
  "kernelspec": {
   "display_name": "Python 3",
   "language": "python",
   "name": "python3"
  },
  "language_info": {
   "codemirror_mode": {
    "name": "ipython",
    "version": 3
   },
   "file_extension": ".py",
   "mimetype": "text/x-python",
   "name": "python",
   "nbconvert_exporter": "python",
   "pygments_lexer": "ipython3",
   "version": "3.9.2"
  }
 },
 "nbformat": 4,
 "nbformat_minor": 5
}

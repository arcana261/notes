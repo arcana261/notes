{
 "cells": [
  {
   "cell_type": "code",
   "execution_count": 74,
   "id": "czech-planet",
   "metadata": {},
   "outputs": [],
   "source": [
    "from scipy.io import loadmat\n",
    "import pandas as pd\n",
    "import numpy as np\n",
    "import math"
   ]
  },
  {
   "cell_type": "code",
   "execution_count": 75,
   "id": "color-lambda",
   "metadata": {
    "scrolled": true
   },
   "outputs": [
    {
     "data": {
      "text/html": [
       "<div>\n",
       "<style scoped>\n",
       "    .dataframe tbody tr th:only-of-type {\n",
       "        vertical-align: middle;\n",
       "    }\n",
       "\n",
       "    .dataframe tbody tr th {\n",
       "        vertical-align: top;\n",
       "    }\n",
       "\n",
       "    .dataframe thead th {\n",
       "        text-align: right;\n",
       "    }\n",
       "</style>\n",
       "<table border=\"1\" class=\"dataframe\">\n",
       "  <thead>\n",
       "    <tr style=\"text-align: right;\">\n",
       "      <th></th>\n",
       "      <th>x</th>\n",
       "      <th>y</th>\n",
       "    </tr>\n",
       "  </thead>\n",
       "  <tbody>\n",
       "    <tr>\n",
       "      <th>count</th>\n",
       "      <td>300.000000</td>\n",
       "      <td>300.000000</td>\n",
       "    </tr>\n",
       "    <tr>\n",
       "      <th>mean</th>\n",
       "      <td>3.684376</td>\n",
       "      <td>2.987101</td>\n",
       "    </tr>\n",
       "    <tr>\n",
       "      <th>std</th>\n",
       "      <td>1.925578</td>\n",
       "      <td>1.685078</td>\n",
       "    </tr>\n",
       "    <tr>\n",
       "      <th>min</th>\n",
       "      <td>-0.245127</td>\n",
       "      <td>0.205810</td>\n",
       "    </tr>\n",
       "    <tr>\n",
       "      <th>25%</th>\n",
       "      <td>2.156202</td>\n",
       "      <td>1.210797</td>\n",
       "    </tr>\n",
       "    <tr>\n",
       "      <th>50%</th>\n",
       "      <td>3.231561</td>\n",
       "      <td>2.949738</td>\n",
       "    </tr>\n",
       "    <tr>\n",
       "      <th>75%</th>\n",
       "      <td>5.509490</td>\n",
       "      <td>4.807780</td>\n",
       "    </tr>\n",
       "    <tr>\n",
       "      <th>max</th>\n",
       "      <td>8.203398</td>\n",
       "      <td>5.784297</td>\n",
       "    </tr>\n",
       "  </tbody>\n",
       "</table>\n",
       "</div>"
      ],
      "text/plain": [
       "                x           y\n",
       "count  300.000000  300.000000\n",
       "mean     3.684376    2.987101\n",
       "std      1.925578    1.685078\n",
       "min     -0.245127    0.205810\n",
       "25%      2.156202    1.210797\n",
       "50%      3.231561    2.949738\n",
       "75%      5.509490    4.807780\n",
       "max      8.203398    5.784297"
      ]
     },
     "execution_count": 75,
     "metadata": {},
     "output_type": "execute_result"
    }
   ],
   "source": [
    "mat = loadmat('data/kmeans.mat')\n",
    "data = pd.DataFrame(mat['X'], columns=['x', 'y'])\n",
    "del mat\n",
    "data = data.sample(frac=1)\n",
    "data.describe()"
   ]
  },
  {
   "cell_type": "code",
   "execution_count": 15,
   "id": "structural-anger",
   "metadata": {},
   "outputs": [
    {
     "data": {
      "text/html": [
       "<div>\n",
       "<style scoped>\n",
       "    .dataframe tbody tr th:only-of-type {\n",
       "        vertical-align: middle;\n",
       "    }\n",
       "\n",
       "    .dataframe tbody tr th {\n",
       "        vertical-align: top;\n",
       "    }\n",
       "\n",
       "    .dataframe thead th {\n",
       "        text-align: right;\n",
       "    }\n",
       "</style>\n",
       "<table border=\"1\" class=\"dataframe\">\n",
       "  <thead>\n",
       "    <tr style=\"text-align: right;\">\n",
       "      <th></th>\n",
       "      <th>x</th>\n",
       "      <th>y</th>\n",
       "    </tr>\n",
       "  </thead>\n",
       "  <tbody>\n",
       "    <tr>\n",
       "      <th>40</th>\n",
       "      <td>1.678380</td>\n",
       "      <td>5.269038</td>\n",
       "    </tr>\n",
       "    <tr>\n",
       "      <th>262</th>\n",
       "      <td>7.655032</td>\n",
       "      <td>2.870956</td>\n",
       "    </tr>\n",
       "    <tr>\n",
       "      <th>132</th>\n",
       "      <td>2.455759</td>\n",
       "      <td>0.789047</td>\n",
       "    </tr>\n",
       "    <tr>\n",
       "      <th>233</th>\n",
       "      <td>6.448344</td>\n",
       "      <td>3.352992</td>\n",
       "    </tr>\n",
       "    <tr>\n",
       "      <th>223</th>\n",
       "      <td>5.740362</td>\n",
       "      <td>3.103913</td>\n",
       "    </tr>\n",
       "  </tbody>\n",
       "</table>\n",
       "</div>"
      ],
      "text/plain": [
       "            x         y\n",
       "40   1.678380  5.269038\n",
       "262  7.655032  2.870956\n",
       "132  2.455759  0.789047\n",
       "233  6.448344  3.352992\n",
       "223  5.740362  3.103913"
      ]
     },
     "execution_count": 15,
     "metadata": {},
     "output_type": "execute_result"
    }
   ],
   "source": [
    "data.head()"
   ]
  },
  {
   "cell_type": "code",
   "execution_count": 12,
   "id": "smoking-configuration",
   "metadata": {},
   "outputs": [
    {
     "data": {
      "text/plain": [
       "<AxesSubplot:xlabel='x', ylabel='y'>"
      ]
     },
     "execution_count": 12,
     "metadata": {},
     "output_type": "execute_result"
    },
    {
     "data": {
      "image/png": "[encoded data removed]",
      "text/plain": [
       "<Figure size 432x288 with 1 Axes>"
      ]
     },
     "metadata": {
      "needs_background": "light"
     },
     "output_type": "display_data"
    }
   ],
   "source": [
    "data.plot.scatter(x='x', y='y')"
   ]
  },
  {
   "cell_type": "code",
   "execution_count": 94,
   "id": "representative-national",
   "metadata": {},
   "outputs": [],
   "source": [
    "def find_nearest_cluster(data, index, mus):\n",
    "    result = None\n",
    "    result_cost = None\n",
    "    for idx in range(0, len(mus)):\n",
    "        v = mus[idx] - data.iloc[index]\n",
    "        cost = np.dot(v, v)\n",
    "        if result_cost is None or cost < result_cost:\n",
    "            result = idx\n",
    "            result_cost = cost\n",
    "\n",
    "    return result, result_cost\n",
    "\n",
    "def assign_cluster(data, mus):\n",
    "    m = data.shape[0]\n",
    "    result = []\n",
    "    result_cost = 0\n",
    "    \n",
    "    for index in range(0, m):\n",
    "        c, cost = find_nearest_cluster(data, index, mus)\n",
    "        result.append(c)\n",
    "        result_cost = result_cost + cost\n",
    "\n",
    "    return result, result_cost / m\n",
    "\n",
    "def select_mus(data, c, num_clusters):\n",
    "    cluster_sum = [None] * num_clusters\n",
    "    cluster_count = [0] * num_clusters\n",
    "    m = data.shape[0]\n",
    "    \n",
    "    for i in range(0, m):\n",
    "        selected_c = c[i]\n",
    "        cluster_count[selected_c] = cluster_count[selected_c] + 1\n",
    "        if cluster_sum[selected_c] is None:\n",
    "            cluster_sum[selected_c] = data.iloc[i]\n",
    "        else:\n",
    "            cluster_sum[selected_c] = cluster_sum[selected_c] + data.iloc[i]\n",
    "            \n",
    "    mus = []\n",
    "    for i in range(0, num_clusters):\n",
    "        if cluster_count[i] == 0:\n",
    "            return None, False\n",
    "        mus.append(cluster_sum[i] / cluster_count[i])\n",
    "        \n",
    "    return mus, True\n",
    "\n",
    "def iteration(data, mus):\n",
    "    c, cost = assign_cluster(data, mus)\n",
    "    mus, ok = select_mus(data, c, len(mus))\n",
    "    return c, mus, cost, ok\n",
    "\n",
    "def pick_initial_mus(data, num_clusters):\n",
    "    arr = np.arange(0, data.shape[0])\n",
    "    np.random.shuffle(arr)\n",
    "    result = []\n",
    "    for i in range(0, num_clusters):\n",
    "        result.append(data.iloc[arr[i]])\n",
    "    return result\n",
    "\n",
    "def solve_once(data, num_clusters, sensitivity):\n",
    "    c = None\n",
    "    best_cost = None\n",
    "    best_c = None\n",
    "    mus = pick_initial_mus(data, num_clusters)\n",
    "    \n",
    "    while True:\n",
    "        c, mus, cost, ok = iteration(data, mus)\n",
    "        if not ok:\n",
    "            return None, None, False\n",
    "        if best_cost is None:\n",
    "            best_cost = cost\n",
    "            best_c = c\n",
    "        else:\n",
    "            if abs(best_cost - cost) < sensitivity:\n",
    "                return best_c, best_cost, True\n",
    "            if cost < best_cost:\n",
    "                best_cost = cost\n",
    "                best_c = c\n",
    "                \n",
    "def solve(data, num_clusters, retry, sensitivity):\n",
    "    try_count = 0\n",
    "    best_c = None\n",
    "    best_cost = None\n",
    "    while try_count <= retry:\n",
    "        try_count = try_count + 1\n",
    "        c, cost, ok = solve_once(data, num_clusters, sensitivity)\n",
    "        if not ok:\n",
    "            num_clusters = num_clusters - 1\n",
    "            try_count = 0\n",
    "            continue\n",
    "        if best_c is None:\n",
    "            best_c = c\n",
    "            best_cost = cost\n",
    "            try_count = 0\n",
    "        elif abs(best_cost - cost) >= sensitivity and cost < best_cost:\n",
    "            best_cost = cost\n",
    "            best_c = c\n",
    "            try_count = 0\n",
    "            \n",
    "    return best_c"
   ]
  },
  {
   "cell_type": "code",
   "execution_count": 93,
   "id": "requested-measure",
   "metadata": {},
   "outputs": [
    {
     "data": {
      "image/png": "[encoded data removed]",
      "text/plain": [
       "<Figure size 432x288 with 1 Axes>"
      ]
     },
     "metadata": {
      "needs_background": "light"
     },
     "output_type": "display_data"
    }
   ],
   "source": [
    "c = solve(data, 3, 1, 1e-5)\n",
    "ax=data[ [x == 0 for x in c] ].plot.scatter(x='x', y='y', c='b')\n",
    "ax=data[ [x == 1 for x in c] ].plot.scatter(x='x', y='y', c='g', ax=ax)\n",
    "ax=data[ [x == 2 for x in c] ].plot.scatter(x='x', y='y', c='r', ax=ax)\n",
    "ax=data[ [x == 3 for x in c] ].plot.scatter(x='x', y='y', c='orange', ax=ax)"
   ]
  },
  {
   "cell_type": "code",
   "execution_count": null,
   "id": "painted-boston",
   "metadata": {},
   "outputs": [],
   "source": []
  }
 ],
 "metadata": {
  "kernelspec": {
   "display_name": "Python 3",
   "language": "python",
   "name": "python3"
  },
  "language_info": {
   "codemirror_mode": {
    "name": "ipython",
    "version": 3
   },
   "file_extension": ".py",
   "mimetype": "text/x-python",
   "name": "python",
   "nbconvert_exporter": "python",
   "pygments_lexer": "ipython3",
   "version": "3.9.2"
  }
 },
 "nbformat": 4,
 "nbformat_minor": 5
}
